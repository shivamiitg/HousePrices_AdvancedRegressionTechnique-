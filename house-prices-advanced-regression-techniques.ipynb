{
 "cells": [
  {
   "cell_type": "markdown",
   "id": "4f06da27",
   "metadata": {
    "papermill": {
     "duration": 0.013214,
     "end_time": "2024-08-20T01:05:24.374310",
     "exception": false,
     "start_time": "2024-08-20T01:05:24.361096",
     "status": "completed"
    },
    "tags": []
   },
   "source": [
    "# Importing the libraries"
   ]
  },
  {
   "cell_type": "code",
   "execution_count": 1,
   "id": "a01991a0",
   "metadata": {
    "execution": {
     "iopub.execute_input": "2024-08-20T01:05:24.402349Z",
     "iopub.status.busy": "2024-08-20T01:05:24.401940Z",
     "iopub.status.idle": "2024-08-20T01:05:27.413247Z",
     "shell.execute_reply": "2024-08-20T01:05:27.411987Z"
    },
    "papermill": {
     "duration": 3.028434,
     "end_time": "2024-08-20T01:05:27.415832",
     "exception": false,
     "start_time": "2024-08-20T01:05:24.387398",
     "status": "completed"
    },
    "tags": []
   },
   "outputs": [],
   "source": [
    "# Essentials\n",
    "import numpy as np\n",
    "import pandas as pd\n",
    "\n",
    "# Visualization\n",
    "import matplotlib.pyplot as plt\n",
    "import seaborn as sns\n",
    "\n",
    "# Miscs\n",
    "from sklearn.impute import SimpleImputer\n",
    "import missingno as msno\n",
    "from sklearn.metrics import mean_squared_error, r2_score\n",
    "from sklearn.model_selection import train_test_split, cross_val_score\n",
    "from sklearn.preprocessing import StandardScaler\n",
    "\n",
    "# Models\n",
    "from sklearn.linear_model import LinearRegression\n",
    "from sklearn.svm import SVR\n",
    "from sklearn.tree import DecisionTreeRegressor\n",
    "from sklearn.ensemble import RandomForestRegressor\n",
    "from sklearn.preprocessing import PolynomialFeatures\n",
    "\n",
    "# Warning\n",
    "import warnings\n",
    "warnings.filterwarnings('ignore')"
   ]
  },
  {
   "cell_type": "markdown",
   "id": "e77f29a8",
   "metadata": {
    "papermill": {
     "duration": 0.012896,
     "end_time": "2024-08-20T01:05:27.441767",
     "exception": false,
     "start_time": "2024-08-20T01:05:27.428871",
     "status": "completed"
    },
    "tags": []
   },
   "source": [
    "# Importing the dataset"
   ]
  },
  {
   "cell_type": "code",
   "execution_count": 2,
   "id": "44df861d",
   "metadata": {
    "execution": {
     "iopub.execute_input": "2024-08-20T01:05:27.472207Z",
     "iopub.status.busy": "2024-08-20T01:05:27.471656Z",
     "iopub.status.idle": "2024-08-20T01:05:27.528773Z",
     "shell.execute_reply": "2024-08-20T01:05:27.527585Z"
    },
    "papermill": {
     "duration": 0.075322,
     "end_time": "2024-08-20T01:05:27.531607",
     "exception": false,
     "start_time": "2024-08-20T01:05:27.456285",
     "status": "completed"
    },
    "tags": []
   },
   "outputs": [],
   "source": [
    "train_df = pd.read_csv(\"/kaggle/input/house-prices-advanced-regression-techniques/train.csv\")"
   ]
  },
  {
   "cell_type": "code",
   "execution_count": 3,
   "id": "09a25e2f",
   "metadata": {
    "execution": {
     "iopub.execute_input": "2024-08-20T01:05:27.558781Z",
     "iopub.status.busy": "2024-08-20T01:05:27.558332Z",
     "iopub.status.idle": "2024-08-20T01:05:27.602208Z",
     "shell.execute_reply": "2024-08-20T01:05:27.601036Z"
    },
    "papermill": {
     "duration": 0.060297,
     "end_time": "2024-08-20T01:05:27.604659",
     "exception": false,
     "start_time": "2024-08-20T01:05:27.544362",
     "status": "completed"
    },
    "tags": []
   },
   "outputs": [
    {
     "data": {
      "text/html": [
       "<div>\n",
       "<style scoped>\n",
       "    .dataframe tbody tr th:only-of-type {\n",
       "        vertical-align: middle;\n",
       "    }\n",
       "\n",
       "    .dataframe tbody tr th {\n",
       "        vertical-align: top;\n",
       "    }\n",
       "\n",
       "    .dataframe thead th {\n",
       "        text-align: right;\n",
       "    }\n",
       "</style>\n",
       "<table border=\"1\" class=\"dataframe\">\n",
       "  <thead>\n",
       "    <tr style=\"text-align: right;\">\n",
       "      <th></th>\n",
       "      <th>Id</th>\n",
       "      <th>MSSubClass</th>\n",
       "      <th>MSZoning</th>\n",
       "      <th>LotFrontage</th>\n",
       "      <th>LotArea</th>\n",
       "      <th>Street</th>\n",
       "      <th>Alley</th>\n",
       "      <th>LotShape</th>\n",
       "      <th>LandContour</th>\n",
       "      <th>Utilities</th>\n",
       "      <th>...</th>\n",
       "      <th>PoolArea</th>\n",
       "      <th>PoolQC</th>\n",
       "      <th>Fence</th>\n",
       "      <th>MiscFeature</th>\n",
       "      <th>MiscVal</th>\n",
       "      <th>MoSold</th>\n",
       "      <th>YrSold</th>\n",
       "      <th>SaleType</th>\n",
       "      <th>SaleCondition</th>\n",
       "      <th>SalePrice</th>\n",
       "    </tr>\n",
       "  </thead>\n",
       "  <tbody>\n",
       "    <tr>\n",
       "      <th>0</th>\n",
       "      <td>1</td>\n",
       "      <td>60</td>\n",
       "      <td>RL</td>\n",
       "      <td>65.0</td>\n",
       "      <td>8450</td>\n",
       "      <td>Pave</td>\n",
       "      <td>NaN</td>\n",
       "      <td>Reg</td>\n",
       "      <td>Lvl</td>\n",
       "      <td>AllPub</td>\n",
       "      <td>...</td>\n",
       "      <td>0</td>\n",
       "      <td>NaN</td>\n",
       "      <td>NaN</td>\n",
       "      <td>NaN</td>\n",
       "      <td>0</td>\n",
       "      <td>2</td>\n",
       "      <td>2008</td>\n",
       "      <td>WD</td>\n",
       "      <td>Normal</td>\n",
       "      <td>208500</td>\n",
       "    </tr>\n",
       "    <tr>\n",
       "      <th>1</th>\n",
       "      <td>2</td>\n",
       "      <td>20</td>\n",
       "      <td>RL</td>\n",
       "      <td>80.0</td>\n",
       "      <td>9600</td>\n",
       "      <td>Pave</td>\n",
       "      <td>NaN</td>\n",
       "      <td>Reg</td>\n",
       "      <td>Lvl</td>\n",
       "      <td>AllPub</td>\n",
       "      <td>...</td>\n",
       "      <td>0</td>\n",
       "      <td>NaN</td>\n",
       "      <td>NaN</td>\n",
       "      <td>NaN</td>\n",
       "      <td>0</td>\n",
       "      <td>5</td>\n",
       "      <td>2007</td>\n",
       "      <td>WD</td>\n",
       "      <td>Normal</td>\n",
       "      <td>181500</td>\n",
       "    </tr>\n",
       "    <tr>\n",
       "      <th>2</th>\n",
       "      <td>3</td>\n",
       "      <td>60</td>\n",
       "      <td>RL</td>\n",
       "      <td>68.0</td>\n",
       "      <td>11250</td>\n",
       "      <td>Pave</td>\n",
       "      <td>NaN</td>\n",
       "      <td>IR1</td>\n",
       "      <td>Lvl</td>\n",
       "      <td>AllPub</td>\n",
       "      <td>...</td>\n",
       "      <td>0</td>\n",
       "      <td>NaN</td>\n",
       "      <td>NaN</td>\n",
       "      <td>NaN</td>\n",
       "      <td>0</td>\n",
       "      <td>9</td>\n",
       "      <td>2008</td>\n",
       "      <td>WD</td>\n",
       "      <td>Normal</td>\n",
       "      <td>223500</td>\n",
       "    </tr>\n",
       "    <tr>\n",
       "      <th>3</th>\n",
       "      <td>4</td>\n",
       "      <td>70</td>\n",
       "      <td>RL</td>\n",
       "      <td>60.0</td>\n",
       "      <td>9550</td>\n",
       "      <td>Pave</td>\n",
       "      <td>NaN</td>\n",
       "      <td>IR1</td>\n",
       "      <td>Lvl</td>\n",
       "      <td>AllPub</td>\n",
       "      <td>...</td>\n",
       "      <td>0</td>\n",
       "      <td>NaN</td>\n",
       "      <td>NaN</td>\n",
       "      <td>NaN</td>\n",
       "      <td>0</td>\n",
       "      <td>2</td>\n",
       "      <td>2006</td>\n",
       "      <td>WD</td>\n",
       "      <td>Abnorml</td>\n",
       "      <td>140000</td>\n",
       "    </tr>\n",
       "    <tr>\n",
       "      <th>4</th>\n",
       "      <td>5</td>\n",
       "      <td>60</td>\n",
       "      <td>RL</td>\n",
       "      <td>84.0</td>\n",
       "      <td>14260</td>\n",
       "      <td>Pave</td>\n",
       "      <td>NaN</td>\n",
       "      <td>IR1</td>\n",
       "      <td>Lvl</td>\n",
       "      <td>AllPub</td>\n",
       "      <td>...</td>\n",
       "      <td>0</td>\n",
       "      <td>NaN</td>\n",
       "      <td>NaN</td>\n",
       "      <td>NaN</td>\n",
       "      <td>0</td>\n",
       "      <td>12</td>\n",
       "      <td>2008</td>\n",
       "      <td>WD</td>\n",
       "      <td>Normal</td>\n",
       "      <td>250000</td>\n",
       "    </tr>\n",
       "    <tr>\n",
       "      <th>5</th>\n",
       "      <td>6</td>\n",
       "      <td>50</td>\n",
       "      <td>RL</td>\n",
       "      <td>85.0</td>\n",
       "      <td>14115</td>\n",
       "      <td>Pave</td>\n",
       "      <td>NaN</td>\n",
       "      <td>IR1</td>\n",
       "      <td>Lvl</td>\n",
       "      <td>AllPub</td>\n",
       "      <td>...</td>\n",
       "      <td>0</td>\n",
       "      <td>NaN</td>\n",
       "      <td>MnPrv</td>\n",
       "      <td>Shed</td>\n",
       "      <td>700</td>\n",
       "      <td>10</td>\n",
       "      <td>2009</td>\n",
       "      <td>WD</td>\n",
       "      <td>Normal</td>\n",
       "      <td>143000</td>\n",
       "    </tr>\n",
       "    <tr>\n",
       "      <th>6</th>\n",
       "      <td>7</td>\n",
       "      <td>20</td>\n",
       "      <td>RL</td>\n",
       "      <td>75.0</td>\n",
       "      <td>10084</td>\n",
       "      <td>Pave</td>\n",
       "      <td>NaN</td>\n",
       "      <td>Reg</td>\n",
       "      <td>Lvl</td>\n",
       "      <td>AllPub</td>\n",
       "      <td>...</td>\n",
       "      <td>0</td>\n",
       "      <td>NaN</td>\n",
       "      <td>NaN</td>\n",
       "      <td>NaN</td>\n",
       "      <td>0</td>\n",
       "      <td>8</td>\n",
       "      <td>2007</td>\n",
       "      <td>WD</td>\n",
       "      <td>Normal</td>\n",
       "      <td>307000</td>\n",
       "    </tr>\n",
       "    <tr>\n",
       "      <th>7</th>\n",
       "      <td>8</td>\n",
       "      <td>60</td>\n",
       "      <td>RL</td>\n",
       "      <td>NaN</td>\n",
       "      <td>10382</td>\n",
       "      <td>Pave</td>\n",
       "      <td>NaN</td>\n",
       "      <td>IR1</td>\n",
       "      <td>Lvl</td>\n",
       "      <td>AllPub</td>\n",
       "      <td>...</td>\n",
       "      <td>0</td>\n",
       "      <td>NaN</td>\n",
       "      <td>NaN</td>\n",
       "      <td>Shed</td>\n",
       "      <td>350</td>\n",
       "      <td>11</td>\n",
       "      <td>2009</td>\n",
       "      <td>WD</td>\n",
       "      <td>Normal</td>\n",
       "      <td>200000</td>\n",
       "    </tr>\n",
       "    <tr>\n",
       "      <th>8</th>\n",
       "      <td>9</td>\n",
       "      <td>50</td>\n",
       "      <td>RM</td>\n",
       "      <td>51.0</td>\n",
       "      <td>6120</td>\n",
       "      <td>Pave</td>\n",
       "      <td>NaN</td>\n",
       "      <td>Reg</td>\n",
       "      <td>Lvl</td>\n",
       "      <td>AllPub</td>\n",
       "      <td>...</td>\n",
       "      <td>0</td>\n",
       "      <td>NaN</td>\n",
       "      <td>NaN</td>\n",
       "      <td>NaN</td>\n",
       "      <td>0</td>\n",
       "      <td>4</td>\n",
       "      <td>2008</td>\n",
       "      <td>WD</td>\n",
       "      <td>Abnorml</td>\n",
       "      <td>129900</td>\n",
       "    </tr>\n",
       "    <tr>\n",
       "      <th>9</th>\n",
       "      <td>10</td>\n",
       "      <td>190</td>\n",
       "      <td>RL</td>\n",
       "      <td>50.0</td>\n",
       "      <td>7420</td>\n",
       "      <td>Pave</td>\n",
       "      <td>NaN</td>\n",
       "      <td>Reg</td>\n",
       "      <td>Lvl</td>\n",
       "      <td>AllPub</td>\n",
       "      <td>...</td>\n",
       "      <td>0</td>\n",
       "      <td>NaN</td>\n",
       "      <td>NaN</td>\n",
       "      <td>NaN</td>\n",
       "      <td>0</td>\n",
       "      <td>1</td>\n",
       "      <td>2008</td>\n",
       "      <td>WD</td>\n",
       "      <td>Normal</td>\n",
       "      <td>118000</td>\n",
       "    </tr>\n",
       "  </tbody>\n",
       "</table>\n",
       "<p>10 rows × 81 columns</p>\n",
       "</div>"
      ],
      "text/plain": [
       "   Id  MSSubClass MSZoning  LotFrontage  LotArea Street Alley LotShape  \\\n",
       "0   1          60       RL         65.0     8450   Pave   NaN      Reg   \n",
       "1   2          20       RL         80.0     9600   Pave   NaN      Reg   \n",
       "2   3          60       RL         68.0    11250   Pave   NaN      IR1   \n",
       "3   4          70       RL         60.0     9550   Pave   NaN      IR1   \n",
       "4   5          60       RL         84.0    14260   Pave   NaN      IR1   \n",
       "5   6          50       RL         85.0    14115   Pave   NaN      IR1   \n",
       "6   7          20       RL         75.0    10084   Pave   NaN      Reg   \n",
       "7   8          60       RL          NaN    10382   Pave   NaN      IR1   \n",
       "8   9          50       RM         51.0     6120   Pave   NaN      Reg   \n",
       "9  10         190       RL         50.0     7420   Pave   NaN      Reg   \n",
       "\n",
       "  LandContour Utilities  ... PoolArea PoolQC  Fence MiscFeature MiscVal  \\\n",
       "0         Lvl    AllPub  ...        0    NaN    NaN         NaN       0   \n",
       "1         Lvl    AllPub  ...        0    NaN    NaN         NaN       0   \n",
       "2         Lvl    AllPub  ...        0    NaN    NaN         NaN       0   \n",
       "3         Lvl    AllPub  ...        0    NaN    NaN         NaN       0   \n",
       "4         Lvl    AllPub  ...        0    NaN    NaN         NaN       0   \n",
       "5         Lvl    AllPub  ...        0    NaN  MnPrv        Shed     700   \n",
       "6         Lvl    AllPub  ...        0    NaN    NaN         NaN       0   \n",
       "7         Lvl    AllPub  ...        0    NaN    NaN        Shed     350   \n",
       "8         Lvl    AllPub  ...        0    NaN    NaN         NaN       0   \n",
       "9         Lvl    AllPub  ...        0    NaN    NaN         NaN       0   \n",
       "\n",
       "  MoSold YrSold  SaleType  SaleCondition  SalePrice  \n",
       "0      2   2008        WD         Normal     208500  \n",
       "1      5   2007        WD         Normal     181500  \n",
       "2      9   2008        WD         Normal     223500  \n",
       "3      2   2006        WD        Abnorml     140000  \n",
       "4     12   2008        WD         Normal     250000  \n",
       "5     10   2009        WD         Normal     143000  \n",
       "6      8   2007        WD         Normal     307000  \n",
       "7     11   2009        WD         Normal     200000  \n",
       "8      4   2008        WD        Abnorml     129900  \n",
       "9      1   2008        WD         Normal     118000  \n",
       "\n",
       "[10 rows x 81 columns]"
      ]
     },
     "execution_count": 3,
     "metadata": {},
     "output_type": "execute_result"
    }
   ],
   "source": [
    "train_df.head(10)"
   ]
  },
  {
   "cell_type": "markdown",
   "id": "5c001343",
   "metadata": {
    "papermill": {
     "duration": 0.013149,
     "end_time": "2024-08-20T01:05:27.631159",
     "exception": false,
     "start_time": "2024-08-20T01:05:27.618010",
     "status": "completed"
    },
    "tags": []
   },
   "source": [
    "Data Preparation"
   ]
  },
  {
   "cell_type": "code",
   "execution_count": 4,
   "id": "023e5411",
   "metadata": {
    "execution": {
     "iopub.execute_input": "2024-08-20T01:05:27.659978Z",
     "iopub.status.busy": "2024-08-20T01:05:27.659259Z",
     "iopub.status.idle": "2024-08-20T01:05:27.666330Z",
     "shell.execute_reply": "2024-08-20T01:05:27.665107Z"
    },
    "papermill": {
     "duration": 0.024272,
     "end_time": "2024-08-20T01:05:27.668765",
     "exception": false,
     "start_time": "2024-08-20T01:05:27.644493",
     "status": "completed"
    },
    "tags": []
   },
   "outputs": [],
   "source": [
    "train_df = train_df.drop('Id', axis=1)"
   ]
  },
  {
   "cell_type": "code",
   "execution_count": 5,
   "id": "c0c12d45",
   "metadata": {
    "execution": {
     "iopub.execute_input": "2024-08-20T01:05:27.699543Z",
     "iopub.status.busy": "2024-08-20T01:05:27.699161Z",
     "iopub.status.idle": "2024-08-20T01:05:27.719955Z",
     "shell.execute_reply": "2024-08-20T01:05:27.718863Z"
    },
    "papermill": {
     "duration": 0.038813,
     "end_time": "2024-08-20T01:05:27.722367",
     "exception": false,
     "start_time": "2024-08-20T01:05:27.683554",
     "status": "completed"
    },
    "tags": []
   },
   "outputs": [
    {
     "data": {
      "text/html": [
       "<div>\n",
       "<style scoped>\n",
       "    .dataframe tbody tr th:only-of-type {\n",
       "        vertical-align: middle;\n",
       "    }\n",
       "\n",
       "    .dataframe tbody tr th {\n",
       "        vertical-align: top;\n",
       "    }\n",
       "\n",
       "    .dataframe thead th {\n",
       "        text-align: right;\n",
       "    }\n",
       "</style>\n",
       "<table border=\"1\" class=\"dataframe\">\n",
       "  <thead>\n",
       "    <tr style=\"text-align: right;\">\n",
       "      <th></th>\n",
       "      <th>MSSubClass</th>\n",
       "      <th>MSZoning</th>\n",
       "      <th>LotFrontage</th>\n",
       "      <th>LotArea</th>\n",
       "      <th>Street</th>\n",
       "      <th>Alley</th>\n",
       "      <th>LotShape</th>\n",
       "      <th>LandContour</th>\n",
       "      <th>Utilities</th>\n",
       "      <th>LotConfig</th>\n",
       "      <th>...</th>\n",
       "      <th>PoolArea</th>\n",
       "      <th>PoolQC</th>\n",
       "      <th>Fence</th>\n",
       "      <th>MiscFeature</th>\n",
       "      <th>MiscVal</th>\n",
       "      <th>MoSold</th>\n",
       "      <th>YrSold</th>\n",
       "      <th>SaleType</th>\n",
       "      <th>SaleCondition</th>\n",
       "      <th>SalePrice</th>\n",
       "    </tr>\n",
       "  </thead>\n",
       "  <tbody>\n",
       "    <tr>\n",
       "      <th>0</th>\n",
       "      <td>60</td>\n",
       "      <td>RL</td>\n",
       "      <td>65.0</td>\n",
       "      <td>8450</td>\n",
       "      <td>Pave</td>\n",
       "      <td>NaN</td>\n",
       "      <td>Reg</td>\n",
       "      <td>Lvl</td>\n",
       "      <td>AllPub</td>\n",
       "      <td>Inside</td>\n",
       "      <td>...</td>\n",
       "      <td>0</td>\n",
       "      <td>NaN</td>\n",
       "      <td>NaN</td>\n",
       "      <td>NaN</td>\n",
       "      <td>0</td>\n",
       "      <td>2</td>\n",
       "      <td>2008</td>\n",
       "      <td>WD</td>\n",
       "      <td>Normal</td>\n",
       "      <td>208500</td>\n",
       "    </tr>\n",
       "    <tr>\n",
       "      <th>1</th>\n",
       "      <td>20</td>\n",
       "      <td>RL</td>\n",
       "      <td>80.0</td>\n",
       "      <td>9600</td>\n",
       "      <td>Pave</td>\n",
       "      <td>NaN</td>\n",
       "      <td>Reg</td>\n",
       "      <td>Lvl</td>\n",
       "      <td>AllPub</td>\n",
       "      <td>FR2</td>\n",
       "      <td>...</td>\n",
       "      <td>0</td>\n",
       "      <td>NaN</td>\n",
       "      <td>NaN</td>\n",
       "      <td>NaN</td>\n",
       "      <td>0</td>\n",
       "      <td>5</td>\n",
       "      <td>2007</td>\n",
       "      <td>WD</td>\n",
       "      <td>Normal</td>\n",
       "      <td>181500</td>\n",
       "    </tr>\n",
       "    <tr>\n",
       "      <th>2</th>\n",
       "      <td>60</td>\n",
       "      <td>RL</td>\n",
       "      <td>68.0</td>\n",
       "      <td>11250</td>\n",
       "      <td>Pave</td>\n",
       "      <td>NaN</td>\n",
       "      <td>IR1</td>\n",
       "      <td>Lvl</td>\n",
       "      <td>AllPub</td>\n",
       "      <td>Inside</td>\n",
       "      <td>...</td>\n",
       "      <td>0</td>\n",
       "      <td>NaN</td>\n",
       "      <td>NaN</td>\n",
       "      <td>NaN</td>\n",
       "      <td>0</td>\n",
       "      <td>9</td>\n",
       "      <td>2008</td>\n",
       "      <td>WD</td>\n",
       "      <td>Normal</td>\n",
       "      <td>223500</td>\n",
       "    </tr>\n",
       "  </tbody>\n",
       "</table>\n",
       "<p>3 rows × 80 columns</p>\n",
       "</div>"
      ],
      "text/plain": [
       "   MSSubClass MSZoning  LotFrontage  LotArea Street Alley LotShape  \\\n",
       "0          60       RL         65.0     8450   Pave   NaN      Reg   \n",
       "1          20       RL         80.0     9600   Pave   NaN      Reg   \n",
       "2          60       RL         68.0    11250   Pave   NaN      IR1   \n",
       "\n",
       "  LandContour Utilities LotConfig  ... PoolArea PoolQC Fence MiscFeature  \\\n",
       "0         Lvl    AllPub    Inside  ...        0    NaN   NaN         NaN   \n",
       "1         Lvl    AllPub       FR2  ...        0    NaN   NaN         NaN   \n",
       "2         Lvl    AllPub    Inside  ...        0    NaN   NaN         NaN   \n",
       "\n",
       "  MiscVal MoSold  YrSold  SaleType  SaleCondition  SalePrice  \n",
       "0       0      2    2008        WD         Normal     208500  \n",
       "1       0      5    2007        WD         Normal     181500  \n",
       "2       0      9    2008        WD         Normal     223500  \n",
       "\n",
       "[3 rows x 80 columns]"
      ]
     },
     "execution_count": 5,
     "metadata": {},
     "output_type": "execute_result"
    }
   ],
   "source": [
    "train_df.head(3)"
   ]
  },
  {
   "cell_type": "markdown",
   "id": "bbe876cb",
   "metadata": {
    "papermill": {
     "duration": 0.013294,
     "end_time": "2024-08-20T01:05:27.749247",
     "exception": false,
     "start_time": "2024-08-20T01:05:27.735953",
     "status": "completed"
    },
    "tags": []
   },
   "source": [
    "# Exploratory Data Analysis"
   ]
  },
  {
   "cell_type": "markdown",
   "id": "67da6ace",
   "metadata": {
    "papermill": {
     "duration": 0.013192,
     "end_time": "2024-08-20T01:05:27.776023",
     "exception": false,
     "start_time": "2024-08-20T01:05:27.762831",
     "status": "completed"
    },
    "tags": []
   },
   "source": [
    "Data Shape"
   ]
  },
  {
   "cell_type": "code",
   "execution_count": 6,
   "id": "162868a9",
   "metadata": {
    "execution": {
     "iopub.execute_input": "2024-08-20T01:05:27.805613Z",
     "iopub.status.busy": "2024-08-20T01:05:27.805150Z",
     "iopub.status.idle": "2024-08-20T01:05:27.812292Z",
     "shell.execute_reply": "2024-08-20T01:05:27.811259Z"
    },
    "papermill": {
     "duration": 0.02472,
     "end_time": "2024-08-20T01:05:27.814469",
     "exception": false,
     "start_time": "2024-08-20T01:05:27.789749",
     "status": "completed"
    },
    "tags": []
   },
   "outputs": [
    {
     "data": {
      "text/plain": [
       "(1460, 80)"
      ]
     },
     "execution_count": 6,
     "metadata": {},
     "output_type": "execute_result"
    }
   ],
   "source": [
    "train_df.shape"
   ]
  },
  {
   "cell_type": "markdown",
   "id": "8d291665",
   "metadata": {
    "papermill": {
     "duration": 0.013386,
     "end_time": "2024-08-20T01:05:27.841562",
     "exception": false,
     "start_time": "2024-08-20T01:05:27.828176",
     "status": "completed"
    },
    "tags": []
   },
   "source": [
    "Checking for Duplicates"
   ]
  },
  {
   "cell_type": "code",
   "execution_count": 7,
   "id": "da7c55aa",
   "metadata": {
    "execution": {
     "iopub.execute_input": "2024-08-20T01:05:27.870518Z",
     "iopub.status.busy": "2024-08-20T01:05:27.870110Z",
     "iopub.status.idle": "2024-08-20T01:05:27.893989Z",
     "shell.execute_reply": "2024-08-20T01:05:27.892813Z"
    },
    "papermill": {
     "duration": 0.04164,
     "end_time": "2024-08-20T01:05:27.896728",
     "exception": false,
     "start_time": "2024-08-20T01:05:27.855088",
     "status": "completed"
    },
    "tags": []
   },
   "outputs": [],
   "source": [
    "train_df.drop_duplicates(inplace=True)"
   ]
  },
  {
   "cell_type": "markdown",
   "id": "68904d4b",
   "metadata": {
    "papermill": {
     "duration": 0.013246,
     "end_time": "2024-08-20T01:05:27.923650",
     "exception": false,
     "start_time": "2024-08-20T01:05:27.910404",
     "status": "completed"
    },
    "tags": []
   },
   "source": [
    "Checking data types"
   ]
  },
  {
   "cell_type": "code",
   "execution_count": 8,
   "id": "32475214",
   "metadata": {
    "execution": {
     "iopub.execute_input": "2024-08-20T01:05:27.952655Z",
     "iopub.status.busy": "2024-08-20T01:05:27.952190Z",
     "iopub.status.idle": "2024-08-20T01:05:27.963944Z",
     "shell.execute_reply": "2024-08-20T01:05:27.962758Z"
    },
    "papermill": {
     "duration": 0.029029,
     "end_time": "2024-08-20T01:05:27.966294",
     "exception": false,
     "start_time": "2024-08-20T01:05:27.937265",
     "status": "completed"
    },
    "tags": []
   },
   "outputs": [
    {
     "data": {
      "text/plain": [
       "object     43\n",
       "int64      34\n",
       "float64     3\n",
       "Name: count, dtype: int64"
      ]
     },
     "execution_count": 8,
     "metadata": {},
     "output_type": "execute_result"
    }
   ],
   "source": [
    "train_df.dtypes.value_counts()"
   ]
  },
  {
   "cell_type": "markdown",
   "id": "a331195f",
   "metadata": {
    "papermill": {
     "duration": 0.013835,
     "end_time": "2024-08-20T01:05:27.993921",
     "exception": false,
     "start_time": "2024-08-20T01:05:27.980086",
     "status": "completed"
    },
    "tags": []
   },
   "source": [
    "Data info"
   ]
  },
  {
   "cell_type": "code",
   "execution_count": 9,
   "id": "250b8b69",
   "metadata": {
    "execution": {
     "iopub.execute_input": "2024-08-20T01:05:28.022988Z",
     "iopub.status.busy": "2024-08-20T01:05:28.022591Z",
     "iopub.status.idle": "2024-08-20T01:05:28.047482Z",
     "shell.execute_reply": "2024-08-20T01:05:28.046135Z"
    },
    "papermill": {
     "duration": 0.042759,
     "end_time": "2024-08-20T01:05:28.050358",
     "exception": false,
     "start_time": "2024-08-20T01:05:28.007599",
     "status": "completed"
    },
    "tags": []
   },
   "outputs": [
    {
     "name": "stdout",
     "output_type": "stream",
     "text": [
      "<class 'pandas.core.frame.DataFrame'>\n",
      "RangeIndex: 1460 entries, 0 to 1459\n",
      "Data columns (total 80 columns):\n",
      " #   Column         Non-Null Count  Dtype  \n",
      "---  ------         --------------  -----  \n",
      " 0   MSSubClass     1460 non-null   int64  \n",
      " 1   MSZoning       1460 non-null   object \n",
      " 2   LotFrontage    1201 non-null   float64\n",
      " 3   LotArea        1460 non-null   int64  \n",
      " 4   Street         1460 non-null   object \n",
      " 5   Alley          91 non-null     object \n",
      " 6   LotShape       1460 non-null   object \n",
      " 7   LandContour    1460 non-null   object \n",
      " 8   Utilities      1460 non-null   object \n",
      " 9   LotConfig      1460 non-null   object \n",
      " 10  LandSlope      1460 non-null   object \n",
      " 11  Neighborhood   1460 non-null   object \n",
      " 12  Condition1     1460 non-null   object \n",
      " 13  Condition2     1460 non-null   object \n",
      " 14  BldgType       1460 non-null   object \n",
      " 15  HouseStyle     1460 non-null   object \n",
      " 16  OverallQual    1460 non-null   int64  \n",
      " 17  OverallCond    1460 non-null   int64  \n",
      " 18  YearBuilt      1460 non-null   int64  \n",
      " 19  YearRemodAdd   1460 non-null   int64  \n",
      " 20  RoofStyle      1460 non-null   object \n",
      " 21  RoofMatl       1460 non-null   object \n",
      " 22  Exterior1st    1460 non-null   object \n",
      " 23  Exterior2nd    1460 non-null   object \n",
      " 24  MasVnrType     588 non-null    object \n",
      " 25  MasVnrArea     1452 non-null   float64\n",
      " 26  ExterQual      1460 non-null   object \n",
      " 27  ExterCond      1460 non-null   object \n",
      " 28  Foundation     1460 non-null   object \n",
      " 29  BsmtQual       1423 non-null   object \n",
      " 30  BsmtCond       1423 non-null   object \n",
      " 31  BsmtExposure   1422 non-null   object \n",
      " 32  BsmtFinType1   1423 non-null   object \n",
      " 33  BsmtFinSF1     1460 non-null   int64  \n",
      " 34  BsmtFinType2   1422 non-null   object \n",
      " 35  BsmtFinSF2     1460 non-null   int64  \n",
      " 36  BsmtUnfSF      1460 non-null   int64  \n",
      " 37  TotalBsmtSF    1460 non-null   int64  \n",
      " 38  Heating        1460 non-null   object \n",
      " 39  HeatingQC      1460 non-null   object \n",
      " 40  CentralAir     1460 non-null   object \n",
      " 41  Electrical     1459 non-null   object \n",
      " 42  1stFlrSF       1460 non-null   int64  \n",
      " 43  2ndFlrSF       1460 non-null   int64  \n",
      " 44  LowQualFinSF   1460 non-null   int64  \n",
      " 45  GrLivArea      1460 non-null   int64  \n",
      " 46  BsmtFullBath   1460 non-null   int64  \n",
      " 47  BsmtHalfBath   1460 non-null   int64  \n",
      " 48  FullBath       1460 non-null   int64  \n",
      " 49  HalfBath       1460 non-null   int64  \n",
      " 50  BedroomAbvGr   1460 non-null   int64  \n",
      " 51  KitchenAbvGr   1460 non-null   int64  \n",
      " 52  KitchenQual    1460 non-null   object \n",
      " 53  TotRmsAbvGrd   1460 non-null   int64  \n",
      " 54  Functional     1460 non-null   object \n",
      " 55  Fireplaces     1460 non-null   int64  \n",
      " 56  FireplaceQu    770 non-null    object \n",
      " 57  GarageType     1379 non-null   object \n",
      " 58  GarageYrBlt    1379 non-null   float64\n",
      " 59  GarageFinish   1379 non-null   object \n",
      " 60  GarageCars     1460 non-null   int64  \n",
      " 61  GarageArea     1460 non-null   int64  \n",
      " 62  GarageQual     1379 non-null   object \n",
      " 63  GarageCond     1379 non-null   object \n",
      " 64  PavedDrive     1460 non-null   object \n",
      " 65  WoodDeckSF     1460 non-null   int64  \n",
      " 66  OpenPorchSF    1460 non-null   int64  \n",
      " 67  EnclosedPorch  1460 non-null   int64  \n",
      " 68  3SsnPorch      1460 non-null   int64  \n",
      " 69  ScreenPorch    1460 non-null   int64  \n",
      " 70  PoolArea       1460 non-null   int64  \n",
      " 71  PoolQC         7 non-null      object \n",
      " 72  Fence          281 non-null    object \n",
      " 73  MiscFeature    54 non-null     object \n",
      " 74  MiscVal        1460 non-null   int64  \n",
      " 75  MoSold         1460 non-null   int64  \n",
      " 76  YrSold         1460 non-null   int64  \n",
      " 77  SaleType       1460 non-null   object \n",
      " 78  SaleCondition  1460 non-null   object \n",
      " 79  SalePrice      1460 non-null   int64  \n",
      "dtypes: float64(3), int64(34), object(43)\n",
      "memory usage: 912.6+ KB\n"
     ]
    }
   ],
   "source": [
    "train_df.info()"
   ]
  },
  {
   "cell_type": "markdown",
   "id": "90079a80",
   "metadata": {
    "papermill": {
     "duration": 0.013939,
     "end_time": "2024-08-20T01:05:28.078512",
     "exception": false,
     "start_time": "2024-08-20T01:05:28.064573",
     "status": "completed"
    },
    "tags": []
   },
   "source": [
    "Numerical Features"
   ]
  },
  {
   "cell_type": "code",
   "execution_count": 10,
   "id": "0eeacdb5",
   "metadata": {
    "execution": {
     "iopub.execute_input": "2024-08-20T01:05:28.108159Z",
     "iopub.status.busy": "2024-08-20T01:05:28.107706Z",
     "iopub.status.idle": "2024-08-20T01:05:28.114478Z",
     "shell.execute_reply": "2024-08-20T01:05:28.113395Z"
    },
    "papermill": {
     "duration": 0.024313,
     "end_time": "2024-08-20T01:05:28.116774",
     "exception": false,
     "start_time": "2024-08-20T01:05:28.092461",
     "status": "completed"
    },
    "tags": []
   },
   "outputs": [
    {
     "name": "stdout",
     "output_type": "stream",
     "text": [
      "['MSSubClass', 'LotFrontage', 'LotArea', 'OverallQual', 'OverallCond', 'YearBuilt', 'YearRemodAdd', 'MasVnrArea', 'BsmtFinSF1', 'BsmtFinSF2', 'BsmtUnfSF', 'TotalBsmtSF', '1stFlrSF', '2ndFlrSF', 'LowQualFinSF', 'GrLivArea', 'BsmtFullBath', 'BsmtHalfBath', 'FullBath', 'HalfBath', 'BedroomAbvGr', 'KitchenAbvGr', 'TotRmsAbvGrd', 'Fireplaces', 'GarageYrBlt', 'GarageCars', 'GarageArea', 'WoodDeckSF', 'OpenPorchSF', 'EnclosedPorch', '3SsnPorch', 'ScreenPorch', 'PoolArea', 'MiscVal', 'MoSold', 'YrSold', 'SalePrice']\n"
     ]
    }
   ],
   "source": [
    "numerical_features=list(train_df.select_dtypes(include=['float64','int64']).columns)\n",
    "print(numerical_features)"
   ]
  },
  {
   "cell_type": "markdown",
   "id": "cd089e55",
   "metadata": {
    "papermill": {
     "duration": 0.013692,
     "end_time": "2024-08-20T01:05:28.144628",
     "exception": false,
     "start_time": "2024-08-20T01:05:28.130936",
     "status": "completed"
    },
    "tags": []
   },
   "source": [
    "Categorical Features"
   ]
  },
  {
   "cell_type": "code",
   "execution_count": 11,
   "id": "a03ed0c0",
   "metadata": {
    "execution": {
     "iopub.execute_input": "2024-08-20T01:05:28.174633Z",
     "iopub.status.busy": "2024-08-20T01:05:28.174026Z",
     "iopub.status.idle": "2024-08-20T01:05:28.182642Z",
     "shell.execute_reply": "2024-08-20T01:05:28.181313Z"
    },
    "papermill": {
     "duration": 0.027159,
     "end_time": "2024-08-20T01:05:28.185857",
     "exception": false,
     "start_time": "2024-08-20T01:05:28.158698",
     "status": "completed"
    },
    "tags": []
   },
   "outputs": [
    {
     "name": "stdout",
     "output_type": "stream",
     "text": [
      "['MSZoning', 'Street', 'Alley', 'LotShape', 'LandContour', 'Utilities', 'LotConfig', 'LandSlope', 'Neighborhood', 'Condition1', 'Condition2', 'BldgType', 'HouseStyle', 'RoofStyle', 'RoofMatl', 'Exterior1st', 'Exterior2nd', 'MasVnrType', 'ExterQual', 'ExterCond', 'Foundation', 'BsmtQual', 'BsmtCond', 'BsmtExposure', 'BsmtFinType1', 'BsmtFinType2', 'Heating', 'HeatingQC', 'CentralAir', 'Electrical', 'KitchenQual', 'Functional', 'FireplaceQu', 'GarageType', 'GarageFinish', 'GarageQual', 'GarageCond', 'PavedDrive', 'PoolQC', 'Fence', 'MiscFeature', 'SaleType', 'SaleCondition']\n"
     ]
    }
   ],
   "source": [
    "categorical_features=list((train_df.select_dtypes(exclude=['float64','int64']).columns))\n",
    "print(categorical_features)"
   ]
  },
  {
   "cell_type": "markdown",
   "id": "b6f4bc75",
   "metadata": {
    "papermill": {
     "duration": 0.015143,
     "end_time": "2024-08-20T01:05:28.215584",
     "exception": false,
     "start_time": "2024-08-20T01:05:28.200441",
     "status": "completed"
    },
    "tags": []
   },
   "source": [
    "Checking for missing values"
   ]
  },
  {
   "cell_type": "code",
   "execution_count": 12,
   "id": "c16bb113",
   "metadata": {
    "execution": {
     "iopub.execute_input": "2024-08-20T01:05:28.308845Z",
     "iopub.status.busy": "2024-08-20T01:05:28.308465Z",
     "iopub.status.idle": "2024-08-20T01:05:28.321964Z",
     "shell.execute_reply": "2024-08-20T01:05:28.320718Z"
    },
    "papermill": {
     "duration": 0.032188,
     "end_time": "2024-08-20T01:05:28.324459",
     "exception": false,
     "start_time": "2024-08-20T01:05:28.292271",
     "status": "completed"
    },
    "tags": []
   },
   "outputs": [
    {
     "data": {
      "text/plain": [
       "MSSubClass         0\n",
       "MSZoning           0\n",
       "LotFrontage      259\n",
       "LotArea            0\n",
       "Street             0\n",
       "                ... \n",
       "MoSold             0\n",
       "YrSold             0\n",
       "SaleType           0\n",
       "SaleCondition      0\n",
       "SalePrice          0\n",
       "Length: 80, dtype: int64"
      ]
     },
     "execution_count": 12,
     "metadata": {},
     "output_type": "execute_result"
    }
   ],
   "source": [
    "train_df.isnull().sum()"
   ]
  },
  {
   "cell_type": "markdown",
   "id": "5c5d0d63",
   "metadata": {
    "papermill": {
     "duration": 0.014716,
     "end_time": "2024-08-20T01:05:28.353703",
     "exception": false,
     "start_time": "2024-08-20T01:05:28.338987",
     "status": "completed"
    },
    "tags": []
   },
   "source": [
    "Statistics of our dataset"
   ]
  },
  {
   "cell_type": "code",
   "execution_count": 13,
   "id": "59f23a22",
   "metadata": {
    "execution": {
     "iopub.execute_input": "2024-08-20T01:05:28.384881Z",
     "iopub.status.busy": "2024-08-20T01:05:28.384491Z",
     "iopub.status.idle": "2024-08-20T01:05:28.474574Z",
     "shell.execute_reply": "2024-08-20T01:05:28.473400Z"
    },
    "papermill": {
     "duration": 0.10868,
     "end_time": "2024-08-20T01:05:28.477256",
     "exception": false,
     "start_time": "2024-08-20T01:05:28.368576",
     "status": "completed"
    },
    "tags": []
   },
   "outputs": [
    {
     "data": {
      "text/html": [
       "<div>\n",
       "<style scoped>\n",
       "    .dataframe tbody tr th:only-of-type {\n",
       "        vertical-align: middle;\n",
       "    }\n",
       "\n",
       "    .dataframe tbody tr th {\n",
       "        vertical-align: top;\n",
       "    }\n",
       "\n",
       "    .dataframe thead th {\n",
       "        text-align: right;\n",
       "    }\n",
       "</style>\n",
       "<table border=\"1\" class=\"dataframe\">\n",
       "  <thead>\n",
       "    <tr style=\"text-align: right;\">\n",
       "      <th></th>\n",
       "      <th>MSSubClass</th>\n",
       "      <th>LotFrontage</th>\n",
       "      <th>LotArea</th>\n",
       "      <th>OverallQual</th>\n",
       "      <th>OverallCond</th>\n",
       "      <th>YearBuilt</th>\n",
       "      <th>YearRemodAdd</th>\n",
       "      <th>MasVnrArea</th>\n",
       "      <th>BsmtFinSF1</th>\n",
       "      <th>BsmtFinSF2</th>\n",
       "      <th>...</th>\n",
       "      <th>WoodDeckSF</th>\n",
       "      <th>OpenPorchSF</th>\n",
       "      <th>EnclosedPorch</th>\n",
       "      <th>3SsnPorch</th>\n",
       "      <th>ScreenPorch</th>\n",
       "      <th>PoolArea</th>\n",
       "      <th>MiscVal</th>\n",
       "      <th>MoSold</th>\n",
       "      <th>YrSold</th>\n",
       "      <th>SalePrice</th>\n",
       "    </tr>\n",
       "  </thead>\n",
       "  <tbody>\n",
       "    <tr>\n",
       "      <th>count</th>\n",
       "      <td>1460.000000</td>\n",
       "      <td>1201.000000</td>\n",
       "      <td>1460.000000</td>\n",
       "      <td>1460.000000</td>\n",
       "      <td>1460.000000</td>\n",
       "      <td>1460.000000</td>\n",
       "      <td>1460.000000</td>\n",
       "      <td>1452.000000</td>\n",
       "      <td>1460.000000</td>\n",
       "      <td>1460.000000</td>\n",
       "      <td>...</td>\n",
       "      <td>1460.000000</td>\n",
       "      <td>1460.000000</td>\n",
       "      <td>1460.000000</td>\n",
       "      <td>1460.000000</td>\n",
       "      <td>1460.000000</td>\n",
       "      <td>1460.000000</td>\n",
       "      <td>1460.000000</td>\n",
       "      <td>1460.000000</td>\n",
       "      <td>1460.000000</td>\n",
       "      <td>1460.000000</td>\n",
       "    </tr>\n",
       "    <tr>\n",
       "      <th>mean</th>\n",
       "      <td>56.897260</td>\n",
       "      <td>70.049958</td>\n",
       "      <td>10516.828082</td>\n",
       "      <td>6.099315</td>\n",
       "      <td>5.575342</td>\n",
       "      <td>1971.267808</td>\n",
       "      <td>1984.865753</td>\n",
       "      <td>103.685262</td>\n",
       "      <td>443.639726</td>\n",
       "      <td>46.549315</td>\n",
       "      <td>...</td>\n",
       "      <td>94.244521</td>\n",
       "      <td>46.660274</td>\n",
       "      <td>21.954110</td>\n",
       "      <td>3.409589</td>\n",
       "      <td>15.060959</td>\n",
       "      <td>2.758904</td>\n",
       "      <td>43.489041</td>\n",
       "      <td>6.321918</td>\n",
       "      <td>2007.815753</td>\n",
       "      <td>180921.195890</td>\n",
       "    </tr>\n",
       "    <tr>\n",
       "      <th>std</th>\n",
       "      <td>42.300571</td>\n",
       "      <td>24.284752</td>\n",
       "      <td>9981.264932</td>\n",
       "      <td>1.382997</td>\n",
       "      <td>1.112799</td>\n",
       "      <td>30.202904</td>\n",
       "      <td>20.645407</td>\n",
       "      <td>181.066207</td>\n",
       "      <td>456.098091</td>\n",
       "      <td>161.319273</td>\n",
       "      <td>...</td>\n",
       "      <td>125.338794</td>\n",
       "      <td>66.256028</td>\n",
       "      <td>61.119149</td>\n",
       "      <td>29.317331</td>\n",
       "      <td>55.757415</td>\n",
       "      <td>40.177307</td>\n",
       "      <td>496.123024</td>\n",
       "      <td>2.703626</td>\n",
       "      <td>1.328095</td>\n",
       "      <td>79442.502883</td>\n",
       "    </tr>\n",
       "    <tr>\n",
       "      <th>min</th>\n",
       "      <td>20.000000</td>\n",
       "      <td>21.000000</td>\n",
       "      <td>1300.000000</td>\n",
       "      <td>1.000000</td>\n",
       "      <td>1.000000</td>\n",
       "      <td>1872.000000</td>\n",
       "      <td>1950.000000</td>\n",
       "      <td>0.000000</td>\n",
       "      <td>0.000000</td>\n",
       "      <td>0.000000</td>\n",
       "      <td>...</td>\n",
       "      <td>0.000000</td>\n",
       "      <td>0.000000</td>\n",
       "      <td>0.000000</td>\n",
       "      <td>0.000000</td>\n",
       "      <td>0.000000</td>\n",
       "      <td>0.000000</td>\n",
       "      <td>0.000000</td>\n",
       "      <td>1.000000</td>\n",
       "      <td>2006.000000</td>\n",
       "      <td>34900.000000</td>\n",
       "    </tr>\n",
       "    <tr>\n",
       "      <th>25%</th>\n",
       "      <td>20.000000</td>\n",
       "      <td>59.000000</td>\n",
       "      <td>7553.500000</td>\n",
       "      <td>5.000000</td>\n",
       "      <td>5.000000</td>\n",
       "      <td>1954.000000</td>\n",
       "      <td>1967.000000</td>\n",
       "      <td>0.000000</td>\n",
       "      <td>0.000000</td>\n",
       "      <td>0.000000</td>\n",
       "      <td>...</td>\n",
       "      <td>0.000000</td>\n",
       "      <td>0.000000</td>\n",
       "      <td>0.000000</td>\n",
       "      <td>0.000000</td>\n",
       "      <td>0.000000</td>\n",
       "      <td>0.000000</td>\n",
       "      <td>0.000000</td>\n",
       "      <td>5.000000</td>\n",
       "      <td>2007.000000</td>\n",
       "      <td>129975.000000</td>\n",
       "    </tr>\n",
       "    <tr>\n",
       "      <th>50%</th>\n",
       "      <td>50.000000</td>\n",
       "      <td>69.000000</td>\n",
       "      <td>9478.500000</td>\n",
       "      <td>6.000000</td>\n",
       "      <td>5.000000</td>\n",
       "      <td>1973.000000</td>\n",
       "      <td>1994.000000</td>\n",
       "      <td>0.000000</td>\n",
       "      <td>383.500000</td>\n",
       "      <td>0.000000</td>\n",
       "      <td>...</td>\n",
       "      <td>0.000000</td>\n",
       "      <td>25.000000</td>\n",
       "      <td>0.000000</td>\n",
       "      <td>0.000000</td>\n",
       "      <td>0.000000</td>\n",
       "      <td>0.000000</td>\n",
       "      <td>0.000000</td>\n",
       "      <td>6.000000</td>\n",
       "      <td>2008.000000</td>\n",
       "      <td>163000.000000</td>\n",
       "    </tr>\n",
       "    <tr>\n",
       "      <th>75%</th>\n",
       "      <td>70.000000</td>\n",
       "      <td>80.000000</td>\n",
       "      <td>11601.500000</td>\n",
       "      <td>7.000000</td>\n",
       "      <td>6.000000</td>\n",
       "      <td>2000.000000</td>\n",
       "      <td>2004.000000</td>\n",
       "      <td>166.000000</td>\n",
       "      <td>712.250000</td>\n",
       "      <td>0.000000</td>\n",
       "      <td>...</td>\n",
       "      <td>168.000000</td>\n",
       "      <td>68.000000</td>\n",
       "      <td>0.000000</td>\n",
       "      <td>0.000000</td>\n",
       "      <td>0.000000</td>\n",
       "      <td>0.000000</td>\n",
       "      <td>0.000000</td>\n",
       "      <td>8.000000</td>\n",
       "      <td>2009.000000</td>\n",
       "      <td>214000.000000</td>\n",
       "    </tr>\n",
       "    <tr>\n",
       "      <th>max</th>\n",
       "      <td>190.000000</td>\n",
       "      <td>313.000000</td>\n",
       "      <td>215245.000000</td>\n",
       "      <td>10.000000</td>\n",
       "      <td>9.000000</td>\n",
       "      <td>2010.000000</td>\n",
       "      <td>2010.000000</td>\n",
       "      <td>1600.000000</td>\n",
       "      <td>5644.000000</td>\n",
       "      <td>1474.000000</td>\n",
       "      <td>...</td>\n",
       "      <td>857.000000</td>\n",
       "      <td>547.000000</td>\n",
       "      <td>552.000000</td>\n",
       "      <td>508.000000</td>\n",
       "      <td>480.000000</td>\n",
       "      <td>738.000000</td>\n",
       "      <td>15500.000000</td>\n",
       "      <td>12.000000</td>\n",
       "      <td>2010.000000</td>\n",
       "      <td>755000.000000</td>\n",
       "    </tr>\n",
       "  </tbody>\n",
       "</table>\n",
       "<p>8 rows × 37 columns</p>\n",
       "</div>"
      ],
      "text/plain": [
       "        MSSubClass  LotFrontage        LotArea  OverallQual  OverallCond  \\\n",
       "count  1460.000000  1201.000000    1460.000000  1460.000000  1460.000000   \n",
       "mean     56.897260    70.049958   10516.828082     6.099315     5.575342   \n",
       "std      42.300571    24.284752    9981.264932     1.382997     1.112799   \n",
       "min      20.000000    21.000000    1300.000000     1.000000     1.000000   \n",
       "25%      20.000000    59.000000    7553.500000     5.000000     5.000000   \n",
       "50%      50.000000    69.000000    9478.500000     6.000000     5.000000   \n",
       "75%      70.000000    80.000000   11601.500000     7.000000     6.000000   \n",
       "max     190.000000   313.000000  215245.000000    10.000000     9.000000   \n",
       "\n",
       "         YearBuilt  YearRemodAdd   MasVnrArea   BsmtFinSF1   BsmtFinSF2  ...  \\\n",
       "count  1460.000000   1460.000000  1452.000000  1460.000000  1460.000000  ...   \n",
       "mean   1971.267808   1984.865753   103.685262   443.639726    46.549315  ...   \n",
       "std      30.202904     20.645407   181.066207   456.098091   161.319273  ...   \n",
       "min    1872.000000   1950.000000     0.000000     0.000000     0.000000  ...   \n",
       "25%    1954.000000   1967.000000     0.000000     0.000000     0.000000  ...   \n",
       "50%    1973.000000   1994.000000     0.000000   383.500000     0.000000  ...   \n",
       "75%    2000.000000   2004.000000   166.000000   712.250000     0.000000  ...   \n",
       "max    2010.000000   2010.000000  1600.000000  5644.000000  1474.000000  ...   \n",
       "\n",
       "        WoodDeckSF  OpenPorchSF  EnclosedPorch    3SsnPorch  ScreenPorch  \\\n",
       "count  1460.000000  1460.000000    1460.000000  1460.000000  1460.000000   \n",
       "mean     94.244521    46.660274      21.954110     3.409589    15.060959   \n",
       "std     125.338794    66.256028      61.119149    29.317331    55.757415   \n",
       "min       0.000000     0.000000       0.000000     0.000000     0.000000   \n",
       "25%       0.000000     0.000000       0.000000     0.000000     0.000000   \n",
       "50%       0.000000    25.000000       0.000000     0.000000     0.000000   \n",
       "75%     168.000000    68.000000       0.000000     0.000000     0.000000   \n",
       "max     857.000000   547.000000     552.000000   508.000000   480.000000   \n",
       "\n",
       "          PoolArea       MiscVal       MoSold       YrSold      SalePrice  \n",
       "count  1460.000000   1460.000000  1460.000000  1460.000000    1460.000000  \n",
       "mean      2.758904     43.489041     6.321918  2007.815753  180921.195890  \n",
       "std      40.177307    496.123024     2.703626     1.328095   79442.502883  \n",
       "min       0.000000      0.000000     1.000000  2006.000000   34900.000000  \n",
       "25%       0.000000      0.000000     5.000000  2007.000000  129975.000000  \n",
       "50%       0.000000      0.000000     6.000000  2008.000000  163000.000000  \n",
       "75%       0.000000      0.000000     8.000000  2009.000000  214000.000000  \n",
       "max     738.000000  15500.000000    12.000000  2010.000000  755000.000000  \n",
       "\n",
       "[8 rows x 37 columns]"
      ]
     },
     "execution_count": 13,
     "metadata": {},
     "output_type": "execute_result"
    }
   ],
   "source": [
    "train_df.describe()"
   ]
  },
  {
   "cell_type": "markdown",
   "id": "ff88b839",
   "metadata": {
    "papermill": {
     "duration": 0.015694,
     "end_time": "2024-08-20T01:05:28.507986",
     "exception": false,
     "start_time": "2024-08-20T01:05:28.492292",
     "status": "completed"
    },
    "tags": []
   },
   "source": [
    "Correlation Matrix"
   ]
  },
  {
   "cell_type": "code",
   "execution_count": 14,
   "id": "01d407e9",
   "metadata": {
    "execution": {
     "iopub.execute_input": "2024-08-20T01:05:28.540079Z",
     "iopub.status.busy": "2024-08-20T01:05:28.539674Z",
     "iopub.status.idle": "2024-08-20T01:05:28.591034Z",
     "shell.execute_reply": "2024-08-20T01:05:28.589853Z"
    },
    "papermill": {
     "duration": 0.072059,
     "end_time": "2024-08-20T01:05:28.594908",
     "exception": false,
     "start_time": "2024-08-20T01:05:28.522849",
     "status": "completed"
    },
    "tags": []
   },
   "outputs": [
    {
     "data": {
      "text/html": [
       "<div>\n",
       "<style scoped>\n",
       "    .dataframe tbody tr th:only-of-type {\n",
       "        vertical-align: middle;\n",
       "    }\n",
       "\n",
       "    .dataframe tbody tr th {\n",
       "        vertical-align: top;\n",
       "    }\n",
       "\n",
       "    .dataframe thead th {\n",
       "        text-align: right;\n",
       "    }\n",
       "</style>\n",
       "<table border=\"1\" class=\"dataframe\">\n",
       "  <thead>\n",
       "    <tr style=\"text-align: right;\">\n",
       "      <th></th>\n",
       "      <th>MSSubClass</th>\n",
       "      <th>LotFrontage</th>\n",
       "      <th>LotArea</th>\n",
       "      <th>OverallQual</th>\n",
       "      <th>OverallCond</th>\n",
       "      <th>YearBuilt</th>\n",
       "      <th>YearRemodAdd</th>\n",
       "      <th>MasVnrArea</th>\n",
       "      <th>BsmtFinSF1</th>\n",
       "      <th>BsmtFinSF2</th>\n",
       "      <th>...</th>\n",
       "      <th>WoodDeckSF</th>\n",
       "      <th>OpenPorchSF</th>\n",
       "      <th>EnclosedPorch</th>\n",
       "      <th>3SsnPorch</th>\n",
       "      <th>ScreenPorch</th>\n",
       "      <th>PoolArea</th>\n",
       "      <th>MiscVal</th>\n",
       "      <th>MoSold</th>\n",
       "      <th>YrSold</th>\n",
       "      <th>SalePrice</th>\n",
       "    </tr>\n",
       "  </thead>\n",
       "  <tbody>\n",
       "    <tr>\n",
       "      <th>MSSubClass</th>\n",
       "      <td>1.000000</td>\n",
       "      <td>-0.386347</td>\n",
       "      <td>-0.139781</td>\n",
       "      <td>0.032628</td>\n",
       "      <td>-0.059316</td>\n",
       "      <td>0.027850</td>\n",
       "      <td>0.040581</td>\n",
       "      <td>0.022936</td>\n",
       "      <td>-0.069836</td>\n",
       "      <td>-0.065649</td>\n",
       "      <td>...</td>\n",
       "      <td>-0.012579</td>\n",
       "      <td>-0.006100</td>\n",
       "      <td>-0.012037</td>\n",
       "      <td>-0.043825</td>\n",
       "      <td>-0.026030</td>\n",
       "      <td>0.008283</td>\n",
       "      <td>-0.007683</td>\n",
       "      <td>-0.013585</td>\n",
       "      <td>-0.021407</td>\n",
       "      <td>-0.084284</td>\n",
       "    </tr>\n",
       "    <tr>\n",
       "      <th>LotFrontage</th>\n",
       "      <td>-0.386347</td>\n",
       "      <td>1.000000</td>\n",
       "      <td>0.426095</td>\n",
       "      <td>0.251646</td>\n",
       "      <td>-0.059213</td>\n",
       "      <td>0.123349</td>\n",
       "      <td>0.088866</td>\n",
       "      <td>0.193458</td>\n",
       "      <td>0.233633</td>\n",
       "      <td>0.049900</td>\n",
       "      <td>...</td>\n",
       "      <td>0.088521</td>\n",
       "      <td>0.151972</td>\n",
       "      <td>0.010700</td>\n",
       "      <td>0.070029</td>\n",
       "      <td>0.041383</td>\n",
       "      <td>0.206167</td>\n",
       "      <td>0.003368</td>\n",
       "      <td>0.011200</td>\n",
       "      <td>0.007450</td>\n",
       "      <td>0.351799</td>\n",
       "    </tr>\n",
       "    <tr>\n",
       "      <th>LotArea</th>\n",
       "      <td>-0.139781</td>\n",
       "      <td>0.426095</td>\n",
       "      <td>1.000000</td>\n",
       "      <td>0.105806</td>\n",
       "      <td>-0.005636</td>\n",
       "      <td>0.014228</td>\n",
       "      <td>0.013788</td>\n",
       "      <td>0.104160</td>\n",
       "      <td>0.214103</td>\n",
       "      <td>0.111170</td>\n",
       "      <td>...</td>\n",
       "      <td>0.171698</td>\n",
       "      <td>0.084774</td>\n",
       "      <td>-0.018340</td>\n",
       "      <td>0.020423</td>\n",
       "      <td>0.043160</td>\n",
       "      <td>0.077672</td>\n",
       "      <td>0.038068</td>\n",
       "      <td>0.001205</td>\n",
       "      <td>-0.014261</td>\n",
       "      <td>0.263843</td>\n",
       "    </tr>\n",
       "    <tr>\n",
       "      <th>OverallQual</th>\n",
       "      <td>0.032628</td>\n",
       "      <td>0.251646</td>\n",
       "      <td>0.105806</td>\n",
       "      <td>1.000000</td>\n",
       "      <td>-0.091932</td>\n",
       "      <td>0.572323</td>\n",
       "      <td>0.550684</td>\n",
       "      <td>0.411876</td>\n",
       "      <td>0.239666</td>\n",
       "      <td>-0.059119</td>\n",
       "      <td>...</td>\n",
       "      <td>0.238923</td>\n",
       "      <td>0.308819</td>\n",
       "      <td>-0.113937</td>\n",
       "      <td>0.030371</td>\n",
       "      <td>0.064886</td>\n",
       "      <td>0.065166</td>\n",
       "      <td>-0.031406</td>\n",
       "      <td>0.070815</td>\n",
       "      <td>-0.027347</td>\n",
       "      <td>0.790982</td>\n",
       "    </tr>\n",
       "    <tr>\n",
       "      <th>OverallCond</th>\n",
       "      <td>-0.059316</td>\n",
       "      <td>-0.059213</td>\n",
       "      <td>-0.005636</td>\n",
       "      <td>-0.091932</td>\n",
       "      <td>1.000000</td>\n",
       "      <td>-0.375983</td>\n",
       "      <td>0.073741</td>\n",
       "      <td>-0.128101</td>\n",
       "      <td>-0.046231</td>\n",
       "      <td>0.040229</td>\n",
       "      <td>...</td>\n",
       "      <td>-0.003334</td>\n",
       "      <td>-0.032589</td>\n",
       "      <td>0.070356</td>\n",
       "      <td>0.025504</td>\n",
       "      <td>0.054811</td>\n",
       "      <td>-0.001985</td>\n",
       "      <td>0.068777</td>\n",
       "      <td>-0.003511</td>\n",
       "      <td>0.043950</td>\n",
       "      <td>-0.077856</td>\n",
       "    </tr>\n",
       "    <tr>\n",
       "      <th>YearBuilt</th>\n",
       "      <td>0.027850</td>\n",
       "      <td>0.123349</td>\n",
       "      <td>0.014228</td>\n",
       "      <td>0.572323</td>\n",
       "      <td>-0.375983</td>\n",
       "      <td>1.000000</td>\n",
       "      <td>0.592855</td>\n",
       "      <td>0.315707</td>\n",
       "      <td>0.249503</td>\n",
       "      <td>-0.049107</td>\n",
       "      <td>...</td>\n",
       "      <td>0.224880</td>\n",
       "      <td>0.188686</td>\n",
       "      <td>-0.387268</td>\n",
       "      <td>0.031355</td>\n",
       "      <td>-0.050364</td>\n",
       "      <td>0.004950</td>\n",
       "      <td>-0.034383</td>\n",
       "      <td>0.012398</td>\n",
       "      <td>-0.013618</td>\n",
       "      <td>0.522897</td>\n",
       "    </tr>\n",
       "    <tr>\n",
       "      <th>YearRemodAdd</th>\n",
       "      <td>0.040581</td>\n",
       "      <td>0.088866</td>\n",
       "      <td>0.013788</td>\n",
       "      <td>0.550684</td>\n",
       "      <td>0.073741</td>\n",
       "      <td>0.592855</td>\n",
       "      <td>1.000000</td>\n",
       "      <td>0.179618</td>\n",
       "      <td>0.128451</td>\n",
       "      <td>-0.067759</td>\n",
       "      <td>...</td>\n",
       "      <td>0.205726</td>\n",
       "      <td>0.226298</td>\n",
       "      <td>-0.193919</td>\n",
       "      <td>0.045286</td>\n",
       "      <td>-0.038740</td>\n",
       "      <td>0.005829</td>\n",
       "      <td>-0.010286</td>\n",
       "      <td>0.021490</td>\n",
       "      <td>0.035743</td>\n",
       "      <td>0.507101</td>\n",
       "    </tr>\n",
       "    <tr>\n",
       "      <th>MasVnrArea</th>\n",
       "      <td>0.022936</td>\n",
       "      <td>0.193458</td>\n",
       "      <td>0.104160</td>\n",
       "      <td>0.411876</td>\n",
       "      <td>-0.128101</td>\n",
       "      <td>0.315707</td>\n",
       "      <td>0.179618</td>\n",
       "      <td>1.000000</td>\n",
       "      <td>0.264736</td>\n",
       "      <td>-0.072319</td>\n",
       "      <td>...</td>\n",
       "      <td>0.159718</td>\n",
       "      <td>0.125703</td>\n",
       "      <td>-0.110204</td>\n",
       "      <td>0.018796</td>\n",
       "      <td>0.061466</td>\n",
       "      <td>0.011723</td>\n",
       "      <td>-0.029815</td>\n",
       "      <td>-0.005965</td>\n",
       "      <td>-0.008201</td>\n",
       "      <td>0.477493</td>\n",
       "    </tr>\n",
       "    <tr>\n",
       "      <th>BsmtFinSF1</th>\n",
       "      <td>-0.069836</td>\n",
       "      <td>0.233633</td>\n",
       "      <td>0.214103</td>\n",
       "      <td>0.239666</td>\n",
       "      <td>-0.046231</td>\n",
       "      <td>0.249503</td>\n",
       "      <td>0.128451</td>\n",
       "      <td>0.264736</td>\n",
       "      <td>1.000000</td>\n",
       "      <td>-0.050117</td>\n",
       "      <td>...</td>\n",
       "      <td>0.204306</td>\n",
       "      <td>0.111761</td>\n",
       "      <td>-0.102303</td>\n",
       "      <td>0.026451</td>\n",
       "      <td>0.062021</td>\n",
       "      <td>0.140491</td>\n",
       "      <td>0.003571</td>\n",
       "      <td>-0.015727</td>\n",
       "      <td>0.014359</td>\n",
       "      <td>0.386420</td>\n",
       "    </tr>\n",
       "    <tr>\n",
       "      <th>BsmtFinSF2</th>\n",
       "      <td>-0.065649</td>\n",
       "      <td>0.049900</td>\n",
       "      <td>0.111170</td>\n",
       "      <td>-0.059119</td>\n",
       "      <td>0.040229</td>\n",
       "      <td>-0.049107</td>\n",
       "      <td>-0.067759</td>\n",
       "      <td>-0.072319</td>\n",
       "      <td>-0.050117</td>\n",
       "      <td>1.000000</td>\n",
       "      <td>...</td>\n",
       "      <td>0.067898</td>\n",
       "      <td>0.003093</td>\n",
       "      <td>0.036543</td>\n",
       "      <td>-0.029993</td>\n",
       "      <td>0.088871</td>\n",
       "      <td>0.041709</td>\n",
       "      <td>0.004940</td>\n",
       "      <td>-0.015211</td>\n",
       "      <td>0.031706</td>\n",
       "      <td>-0.011378</td>\n",
       "    </tr>\n",
       "    <tr>\n",
       "      <th>BsmtUnfSF</th>\n",
       "      <td>-0.140759</td>\n",
       "      <td>0.132644</td>\n",
       "      <td>-0.002618</td>\n",
       "      <td>0.308159</td>\n",
       "      <td>-0.136841</td>\n",
       "      <td>0.149040</td>\n",
       "      <td>0.181133</td>\n",
       "      <td>0.114442</td>\n",
       "      <td>-0.495251</td>\n",
       "      <td>-0.209294</td>\n",
       "      <td>...</td>\n",
       "      <td>-0.005316</td>\n",
       "      <td>0.129005</td>\n",
       "      <td>-0.002538</td>\n",
       "      <td>0.020764</td>\n",
       "      <td>-0.012579</td>\n",
       "      <td>-0.035092</td>\n",
       "      <td>-0.023837</td>\n",
       "      <td>0.034888</td>\n",
       "      <td>-0.041258</td>\n",
       "      <td>0.214479</td>\n",
       "    </tr>\n",
       "    <tr>\n",
       "      <th>TotalBsmtSF</th>\n",
       "      <td>-0.238518</td>\n",
       "      <td>0.392075</td>\n",
       "      <td>0.260833</td>\n",
       "      <td>0.537808</td>\n",
       "      <td>-0.171098</td>\n",
       "      <td>0.391452</td>\n",
       "      <td>0.291066</td>\n",
       "      <td>0.363936</td>\n",
       "      <td>0.522396</td>\n",
       "      <td>0.104810</td>\n",
       "      <td>...</td>\n",
       "      <td>0.232019</td>\n",
       "      <td>0.247264</td>\n",
       "      <td>-0.095478</td>\n",
       "      <td>0.037384</td>\n",
       "      <td>0.084489</td>\n",
       "      <td>0.126053</td>\n",
       "      <td>-0.018479</td>\n",
       "      <td>0.013196</td>\n",
       "      <td>-0.014969</td>\n",
       "      <td>0.613581</td>\n",
       "    </tr>\n",
       "    <tr>\n",
       "      <th>1stFlrSF</th>\n",
       "      <td>-0.251758</td>\n",
       "      <td>0.457181</td>\n",
       "      <td>0.299475</td>\n",
       "      <td>0.476224</td>\n",
       "      <td>-0.144203</td>\n",
       "      <td>0.281986</td>\n",
       "      <td>0.240379</td>\n",
       "      <td>0.344501</td>\n",
       "      <td>0.445863</td>\n",
       "      <td>0.097117</td>\n",
       "      <td>...</td>\n",
       "      <td>0.235459</td>\n",
       "      <td>0.211671</td>\n",
       "      <td>-0.065292</td>\n",
       "      <td>0.056104</td>\n",
       "      <td>0.088758</td>\n",
       "      <td>0.131525</td>\n",
       "      <td>-0.021096</td>\n",
       "      <td>0.031372</td>\n",
       "      <td>-0.013604</td>\n",
       "      <td>0.605852</td>\n",
       "    </tr>\n",
       "    <tr>\n",
       "      <th>2ndFlrSF</th>\n",
       "      <td>0.307886</td>\n",
       "      <td>0.080177</td>\n",
       "      <td>0.050986</td>\n",
       "      <td>0.295493</td>\n",
       "      <td>0.028942</td>\n",
       "      <td>0.010308</td>\n",
       "      <td>0.140024</td>\n",
       "      <td>0.174561</td>\n",
       "      <td>-0.137079</td>\n",
       "      <td>-0.099260</td>\n",
       "      <td>...</td>\n",
       "      <td>0.092165</td>\n",
       "      <td>0.208026</td>\n",
       "      <td>0.061989</td>\n",
       "      <td>-0.024358</td>\n",
       "      <td>0.040606</td>\n",
       "      <td>0.081487</td>\n",
       "      <td>0.016197</td>\n",
       "      <td>0.035164</td>\n",
       "      <td>-0.028700</td>\n",
       "      <td>0.319334</td>\n",
       "    </tr>\n",
       "    <tr>\n",
       "      <th>LowQualFinSF</th>\n",
       "      <td>0.046474</td>\n",
       "      <td>0.038469</td>\n",
       "      <td>0.004779</td>\n",
       "      <td>-0.030429</td>\n",
       "      <td>0.025494</td>\n",
       "      <td>-0.183784</td>\n",
       "      <td>-0.062419</td>\n",
       "      <td>-0.069071</td>\n",
       "      <td>-0.064503</td>\n",
       "      <td>0.014807</td>\n",
       "      <td>...</td>\n",
       "      <td>-0.025444</td>\n",
       "      <td>0.018251</td>\n",
       "      <td>0.061081</td>\n",
       "      <td>-0.004296</td>\n",
       "      <td>0.026799</td>\n",
       "      <td>0.062157</td>\n",
       "      <td>-0.003793</td>\n",
       "      <td>-0.022174</td>\n",
       "      <td>-0.028921</td>\n",
       "      <td>-0.025606</td>\n",
       "    </tr>\n",
       "    <tr>\n",
       "      <th>GrLivArea</th>\n",
       "      <td>0.074853</td>\n",
       "      <td>0.402797</td>\n",
       "      <td>0.263116</td>\n",
       "      <td>0.593007</td>\n",
       "      <td>-0.079686</td>\n",
       "      <td>0.199010</td>\n",
       "      <td>0.287389</td>\n",
       "      <td>0.390857</td>\n",
       "      <td>0.208171</td>\n",
       "      <td>-0.009640</td>\n",
       "      <td>...</td>\n",
       "      <td>0.247433</td>\n",
       "      <td>0.330224</td>\n",
       "      <td>0.009113</td>\n",
       "      <td>0.020643</td>\n",
       "      <td>0.101510</td>\n",
       "      <td>0.170205</td>\n",
       "      <td>-0.002416</td>\n",
       "      <td>0.050240</td>\n",
       "      <td>-0.036526</td>\n",
       "      <td>0.708624</td>\n",
       "    </tr>\n",
       "    <tr>\n",
       "      <th>BsmtFullBath</th>\n",
       "      <td>0.003491</td>\n",
       "      <td>0.100949</td>\n",
       "      <td>0.158155</td>\n",
       "      <td>0.111098</td>\n",
       "      <td>-0.054942</td>\n",
       "      <td>0.187599</td>\n",
       "      <td>0.119470</td>\n",
       "      <td>0.085310</td>\n",
       "      <td>0.649212</td>\n",
       "      <td>0.158678</td>\n",
       "      <td>...</td>\n",
       "      <td>0.175315</td>\n",
       "      <td>0.067341</td>\n",
       "      <td>-0.049911</td>\n",
       "      <td>-0.000106</td>\n",
       "      <td>0.023148</td>\n",
       "      <td>0.067616</td>\n",
       "      <td>-0.023047</td>\n",
       "      <td>-0.025361</td>\n",
       "      <td>0.067049</td>\n",
       "      <td>0.227122</td>\n",
       "    </tr>\n",
       "    <tr>\n",
       "      <th>BsmtHalfBath</th>\n",
       "      <td>-0.002333</td>\n",
       "      <td>-0.007234</td>\n",
       "      <td>0.048046</td>\n",
       "      <td>-0.040150</td>\n",
       "      <td>0.117821</td>\n",
       "      <td>-0.038162</td>\n",
       "      <td>-0.012337</td>\n",
       "      <td>0.026673</td>\n",
       "      <td>0.067418</td>\n",
       "      <td>0.070948</td>\n",
       "      <td>...</td>\n",
       "      <td>0.040161</td>\n",
       "      <td>-0.025324</td>\n",
       "      <td>-0.008555</td>\n",
       "      <td>0.035114</td>\n",
       "      <td>0.032121</td>\n",
       "      <td>0.020025</td>\n",
       "      <td>-0.007367</td>\n",
       "      <td>0.032873</td>\n",
       "      <td>-0.046524</td>\n",
       "      <td>-0.016844</td>\n",
       "    </tr>\n",
       "    <tr>\n",
       "      <th>FullBath</th>\n",
       "      <td>0.131608</td>\n",
       "      <td>0.198769</td>\n",
       "      <td>0.126031</td>\n",
       "      <td>0.550600</td>\n",
       "      <td>-0.194149</td>\n",
       "      <td>0.468271</td>\n",
       "      <td>0.439046</td>\n",
       "      <td>0.276833</td>\n",
       "      <td>0.058543</td>\n",
       "      <td>-0.076444</td>\n",
       "      <td>...</td>\n",
       "      <td>0.187703</td>\n",
       "      <td>0.259977</td>\n",
       "      <td>-0.115093</td>\n",
       "      <td>0.035353</td>\n",
       "      <td>-0.008106</td>\n",
       "      <td>0.049604</td>\n",
       "      <td>-0.014290</td>\n",
       "      <td>0.055872</td>\n",
       "      <td>-0.019669</td>\n",
       "      <td>0.560664</td>\n",
       "    </tr>\n",
       "    <tr>\n",
       "      <th>HalfBath</th>\n",
       "      <td>0.177354</td>\n",
       "      <td>0.053532</td>\n",
       "      <td>0.014259</td>\n",
       "      <td>0.273458</td>\n",
       "      <td>-0.060769</td>\n",
       "      <td>0.242656</td>\n",
       "      <td>0.183331</td>\n",
       "      <td>0.201444</td>\n",
       "      <td>0.004262</td>\n",
       "      <td>-0.032148</td>\n",
       "      <td>...</td>\n",
       "      <td>0.108080</td>\n",
       "      <td>0.199740</td>\n",
       "      <td>-0.095317</td>\n",
       "      <td>-0.004972</td>\n",
       "      <td>0.072426</td>\n",
       "      <td>0.022381</td>\n",
       "      <td>0.001290</td>\n",
       "      <td>-0.009050</td>\n",
       "      <td>-0.010269</td>\n",
       "      <td>0.284108</td>\n",
       "    </tr>\n",
       "    <tr>\n",
       "      <th>BedroomAbvGr</th>\n",
       "      <td>-0.023438</td>\n",
       "      <td>0.263170</td>\n",
       "      <td>0.119690</td>\n",
       "      <td>0.101676</td>\n",
       "      <td>0.012980</td>\n",
       "      <td>-0.070651</td>\n",
       "      <td>-0.040581</td>\n",
       "      <td>0.102821</td>\n",
       "      <td>-0.107355</td>\n",
       "      <td>-0.015728</td>\n",
       "      <td>...</td>\n",
       "      <td>0.046854</td>\n",
       "      <td>0.093810</td>\n",
       "      <td>0.041570</td>\n",
       "      <td>-0.024478</td>\n",
       "      <td>0.044300</td>\n",
       "      <td>0.070703</td>\n",
       "      <td>0.007767</td>\n",
       "      <td>0.046544</td>\n",
       "      <td>-0.036014</td>\n",
       "      <td>0.168213</td>\n",
       "    </tr>\n",
       "    <tr>\n",
       "      <th>KitchenAbvGr</th>\n",
       "      <td>0.281721</td>\n",
       "      <td>-0.006069</td>\n",
       "      <td>-0.017784</td>\n",
       "      <td>-0.183882</td>\n",
       "      <td>-0.087001</td>\n",
       "      <td>-0.174800</td>\n",
       "      <td>-0.149598</td>\n",
       "      <td>-0.037610</td>\n",
       "      <td>-0.081007</td>\n",
       "      <td>-0.040751</td>\n",
       "      <td>...</td>\n",
       "      <td>-0.090130</td>\n",
       "      <td>-0.070091</td>\n",
       "      <td>0.037312</td>\n",
       "      <td>-0.024600</td>\n",
       "      <td>-0.051613</td>\n",
       "      <td>-0.014525</td>\n",
       "      <td>0.062341</td>\n",
       "      <td>0.026589</td>\n",
       "      <td>0.031687</td>\n",
       "      <td>-0.135907</td>\n",
       "    </tr>\n",
       "    <tr>\n",
       "      <th>TotRmsAbvGrd</th>\n",
       "      <td>0.040380</td>\n",
       "      <td>0.352096</td>\n",
       "      <td>0.190015</td>\n",
       "      <td>0.427452</td>\n",
       "      <td>-0.057583</td>\n",
       "      <td>0.095589</td>\n",
       "      <td>0.191740</td>\n",
       "      <td>0.280682</td>\n",
       "      <td>0.044316</td>\n",
       "      <td>-0.035227</td>\n",
       "      <td>...</td>\n",
       "      <td>0.165984</td>\n",
       "      <td>0.234192</td>\n",
       "      <td>0.004151</td>\n",
       "      <td>-0.006683</td>\n",
       "      <td>0.059383</td>\n",
       "      <td>0.083757</td>\n",
       "      <td>0.024763</td>\n",
       "      <td>0.036907</td>\n",
       "      <td>-0.034516</td>\n",
       "      <td>0.533723</td>\n",
       "    </tr>\n",
       "    <tr>\n",
       "      <th>Fireplaces</th>\n",
       "      <td>-0.045569</td>\n",
       "      <td>0.266639</td>\n",
       "      <td>0.271364</td>\n",
       "      <td>0.396765</td>\n",
       "      <td>-0.023820</td>\n",
       "      <td>0.147716</td>\n",
       "      <td>0.112581</td>\n",
       "      <td>0.249070</td>\n",
       "      <td>0.260011</td>\n",
       "      <td>0.046921</td>\n",
       "      <td>...</td>\n",
       "      <td>0.200019</td>\n",
       "      <td>0.169405</td>\n",
       "      <td>-0.024822</td>\n",
       "      <td>0.011257</td>\n",
       "      <td>0.184530</td>\n",
       "      <td>0.095074</td>\n",
       "      <td>0.001409</td>\n",
       "      <td>0.046357</td>\n",
       "      <td>-0.024096</td>\n",
       "      <td>0.466929</td>\n",
       "    </tr>\n",
       "    <tr>\n",
       "      <th>GarageYrBlt</th>\n",
       "      <td>0.085072</td>\n",
       "      <td>0.070250</td>\n",
       "      <td>-0.024947</td>\n",
       "      <td>0.547766</td>\n",
       "      <td>-0.324297</td>\n",
       "      <td>0.825667</td>\n",
       "      <td>0.642277</td>\n",
       "      <td>0.252691</td>\n",
       "      <td>0.153484</td>\n",
       "      <td>-0.088011</td>\n",
       "      <td>...</td>\n",
       "      <td>0.224577</td>\n",
       "      <td>0.228425</td>\n",
       "      <td>-0.297003</td>\n",
       "      <td>0.023544</td>\n",
       "      <td>-0.075418</td>\n",
       "      <td>-0.014501</td>\n",
       "      <td>-0.032417</td>\n",
       "      <td>0.005337</td>\n",
       "      <td>-0.001014</td>\n",
       "      <td>0.486362</td>\n",
       "    </tr>\n",
       "    <tr>\n",
       "      <th>GarageCars</th>\n",
       "      <td>-0.040110</td>\n",
       "      <td>0.285691</td>\n",
       "      <td>0.154871</td>\n",
       "      <td>0.600671</td>\n",
       "      <td>-0.185758</td>\n",
       "      <td>0.537850</td>\n",
       "      <td>0.420622</td>\n",
       "      <td>0.364204</td>\n",
       "      <td>0.224054</td>\n",
       "      <td>-0.038264</td>\n",
       "      <td>...</td>\n",
       "      <td>0.226342</td>\n",
       "      <td>0.213569</td>\n",
       "      <td>-0.151434</td>\n",
       "      <td>0.035765</td>\n",
       "      <td>0.050494</td>\n",
       "      <td>0.020934</td>\n",
       "      <td>-0.043080</td>\n",
       "      <td>0.040522</td>\n",
       "      <td>-0.039117</td>\n",
       "      <td>0.640409</td>\n",
       "    </tr>\n",
       "    <tr>\n",
       "      <th>GarageArea</th>\n",
       "      <td>-0.098672</td>\n",
       "      <td>0.344997</td>\n",
       "      <td>0.180403</td>\n",
       "      <td>0.562022</td>\n",
       "      <td>-0.151521</td>\n",
       "      <td>0.478954</td>\n",
       "      <td>0.371600</td>\n",
       "      <td>0.373066</td>\n",
       "      <td>0.296970</td>\n",
       "      <td>-0.018227</td>\n",
       "      <td>...</td>\n",
       "      <td>0.224666</td>\n",
       "      <td>0.241435</td>\n",
       "      <td>-0.121777</td>\n",
       "      <td>0.035087</td>\n",
       "      <td>0.051412</td>\n",
       "      <td>0.061047</td>\n",
       "      <td>-0.027400</td>\n",
       "      <td>0.027974</td>\n",
       "      <td>-0.027378</td>\n",
       "      <td>0.623431</td>\n",
       "    </tr>\n",
       "    <tr>\n",
       "      <th>WoodDeckSF</th>\n",
       "      <td>-0.012579</td>\n",
       "      <td>0.088521</td>\n",
       "      <td>0.171698</td>\n",
       "      <td>0.238923</td>\n",
       "      <td>-0.003334</td>\n",
       "      <td>0.224880</td>\n",
       "      <td>0.205726</td>\n",
       "      <td>0.159718</td>\n",
       "      <td>0.204306</td>\n",
       "      <td>0.067898</td>\n",
       "      <td>...</td>\n",
       "      <td>1.000000</td>\n",
       "      <td>0.058661</td>\n",
       "      <td>-0.125989</td>\n",
       "      <td>-0.032771</td>\n",
       "      <td>-0.074181</td>\n",
       "      <td>0.073378</td>\n",
       "      <td>-0.009551</td>\n",
       "      <td>0.021011</td>\n",
       "      <td>0.022270</td>\n",
       "      <td>0.324413</td>\n",
       "    </tr>\n",
       "    <tr>\n",
       "      <th>OpenPorchSF</th>\n",
       "      <td>-0.006100</td>\n",
       "      <td>0.151972</td>\n",
       "      <td>0.084774</td>\n",
       "      <td>0.308819</td>\n",
       "      <td>-0.032589</td>\n",
       "      <td>0.188686</td>\n",
       "      <td>0.226298</td>\n",
       "      <td>0.125703</td>\n",
       "      <td>0.111761</td>\n",
       "      <td>0.003093</td>\n",
       "      <td>...</td>\n",
       "      <td>0.058661</td>\n",
       "      <td>1.000000</td>\n",
       "      <td>-0.093079</td>\n",
       "      <td>-0.005842</td>\n",
       "      <td>0.074304</td>\n",
       "      <td>0.060762</td>\n",
       "      <td>-0.018584</td>\n",
       "      <td>0.071255</td>\n",
       "      <td>-0.057619</td>\n",
       "      <td>0.315856</td>\n",
       "    </tr>\n",
       "    <tr>\n",
       "      <th>EnclosedPorch</th>\n",
       "      <td>-0.012037</td>\n",
       "      <td>0.010700</td>\n",
       "      <td>-0.018340</td>\n",
       "      <td>-0.113937</td>\n",
       "      <td>0.070356</td>\n",
       "      <td>-0.387268</td>\n",
       "      <td>-0.193919</td>\n",
       "      <td>-0.110204</td>\n",
       "      <td>-0.102303</td>\n",
       "      <td>0.036543</td>\n",
       "      <td>...</td>\n",
       "      <td>-0.125989</td>\n",
       "      <td>-0.093079</td>\n",
       "      <td>1.000000</td>\n",
       "      <td>-0.037305</td>\n",
       "      <td>-0.082864</td>\n",
       "      <td>0.054203</td>\n",
       "      <td>0.018361</td>\n",
       "      <td>-0.028887</td>\n",
       "      <td>-0.009916</td>\n",
       "      <td>-0.128578</td>\n",
       "    </tr>\n",
       "    <tr>\n",
       "      <th>3SsnPorch</th>\n",
       "      <td>-0.043825</td>\n",
       "      <td>0.070029</td>\n",
       "      <td>0.020423</td>\n",
       "      <td>0.030371</td>\n",
       "      <td>0.025504</td>\n",
       "      <td>0.031355</td>\n",
       "      <td>0.045286</td>\n",
       "      <td>0.018796</td>\n",
       "      <td>0.026451</td>\n",
       "      <td>-0.029993</td>\n",
       "      <td>...</td>\n",
       "      <td>-0.032771</td>\n",
       "      <td>-0.005842</td>\n",
       "      <td>-0.037305</td>\n",
       "      <td>1.000000</td>\n",
       "      <td>-0.031436</td>\n",
       "      <td>-0.007992</td>\n",
       "      <td>0.000354</td>\n",
       "      <td>0.029474</td>\n",
       "      <td>0.018645</td>\n",
       "      <td>0.044584</td>\n",
       "    </tr>\n",
       "    <tr>\n",
       "      <th>ScreenPorch</th>\n",
       "      <td>-0.026030</td>\n",
       "      <td>0.041383</td>\n",
       "      <td>0.043160</td>\n",
       "      <td>0.064886</td>\n",
       "      <td>0.054811</td>\n",
       "      <td>-0.050364</td>\n",
       "      <td>-0.038740</td>\n",
       "      <td>0.061466</td>\n",
       "      <td>0.062021</td>\n",
       "      <td>0.088871</td>\n",
       "      <td>...</td>\n",
       "      <td>-0.074181</td>\n",
       "      <td>0.074304</td>\n",
       "      <td>-0.082864</td>\n",
       "      <td>-0.031436</td>\n",
       "      <td>1.000000</td>\n",
       "      <td>0.051307</td>\n",
       "      <td>0.031946</td>\n",
       "      <td>0.023217</td>\n",
       "      <td>0.010694</td>\n",
       "      <td>0.111447</td>\n",
       "    </tr>\n",
       "    <tr>\n",
       "      <th>PoolArea</th>\n",
       "      <td>0.008283</td>\n",
       "      <td>0.206167</td>\n",
       "      <td>0.077672</td>\n",
       "      <td>0.065166</td>\n",
       "      <td>-0.001985</td>\n",
       "      <td>0.004950</td>\n",
       "      <td>0.005829</td>\n",
       "      <td>0.011723</td>\n",
       "      <td>0.140491</td>\n",
       "      <td>0.041709</td>\n",
       "      <td>...</td>\n",
       "      <td>0.073378</td>\n",
       "      <td>0.060762</td>\n",
       "      <td>0.054203</td>\n",
       "      <td>-0.007992</td>\n",
       "      <td>0.051307</td>\n",
       "      <td>1.000000</td>\n",
       "      <td>0.029669</td>\n",
       "      <td>-0.033737</td>\n",
       "      <td>-0.059689</td>\n",
       "      <td>0.092404</td>\n",
       "    </tr>\n",
       "    <tr>\n",
       "      <th>MiscVal</th>\n",
       "      <td>-0.007683</td>\n",
       "      <td>0.003368</td>\n",
       "      <td>0.038068</td>\n",
       "      <td>-0.031406</td>\n",
       "      <td>0.068777</td>\n",
       "      <td>-0.034383</td>\n",
       "      <td>-0.010286</td>\n",
       "      <td>-0.029815</td>\n",
       "      <td>0.003571</td>\n",
       "      <td>0.004940</td>\n",
       "      <td>...</td>\n",
       "      <td>-0.009551</td>\n",
       "      <td>-0.018584</td>\n",
       "      <td>0.018361</td>\n",
       "      <td>0.000354</td>\n",
       "      <td>0.031946</td>\n",
       "      <td>0.029669</td>\n",
       "      <td>1.000000</td>\n",
       "      <td>-0.006495</td>\n",
       "      <td>0.004906</td>\n",
       "      <td>-0.021190</td>\n",
       "    </tr>\n",
       "    <tr>\n",
       "      <th>MoSold</th>\n",
       "      <td>-0.013585</td>\n",
       "      <td>0.011200</td>\n",
       "      <td>0.001205</td>\n",
       "      <td>0.070815</td>\n",
       "      <td>-0.003511</td>\n",
       "      <td>0.012398</td>\n",
       "      <td>0.021490</td>\n",
       "      <td>-0.005965</td>\n",
       "      <td>-0.015727</td>\n",
       "      <td>-0.015211</td>\n",
       "      <td>...</td>\n",
       "      <td>0.021011</td>\n",
       "      <td>0.071255</td>\n",
       "      <td>-0.028887</td>\n",
       "      <td>0.029474</td>\n",
       "      <td>0.023217</td>\n",
       "      <td>-0.033737</td>\n",
       "      <td>-0.006495</td>\n",
       "      <td>1.000000</td>\n",
       "      <td>-0.145721</td>\n",
       "      <td>0.046432</td>\n",
       "    </tr>\n",
       "    <tr>\n",
       "      <th>YrSold</th>\n",
       "      <td>-0.021407</td>\n",
       "      <td>0.007450</td>\n",
       "      <td>-0.014261</td>\n",
       "      <td>-0.027347</td>\n",
       "      <td>0.043950</td>\n",
       "      <td>-0.013618</td>\n",
       "      <td>0.035743</td>\n",
       "      <td>-0.008201</td>\n",
       "      <td>0.014359</td>\n",
       "      <td>0.031706</td>\n",
       "      <td>...</td>\n",
       "      <td>0.022270</td>\n",
       "      <td>-0.057619</td>\n",
       "      <td>-0.009916</td>\n",
       "      <td>0.018645</td>\n",
       "      <td>0.010694</td>\n",
       "      <td>-0.059689</td>\n",
       "      <td>0.004906</td>\n",
       "      <td>-0.145721</td>\n",
       "      <td>1.000000</td>\n",
       "      <td>-0.028923</td>\n",
       "    </tr>\n",
       "    <tr>\n",
       "      <th>SalePrice</th>\n",
       "      <td>-0.084284</td>\n",
       "      <td>0.351799</td>\n",
       "      <td>0.263843</td>\n",
       "      <td>0.790982</td>\n",
       "      <td>-0.077856</td>\n",
       "      <td>0.522897</td>\n",
       "      <td>0.507101</td>\n",
       "      <td>0.477493</td>\n",
       "      <td>0.386420</td>\n",
       "      <td>-0.011378</td>\n",
       "      <td>...</td>\n",
       "      <td>0.324413</td>\n",
       "      <td>0.315856</td>\n",
       "      <td>-0.128578</td>\n",
       "      <td>0.044584</td>\n",
       "      <td>0.111447</td>\n",
       "      <td>0.092404</td>\n",
       "      <td>-0.021190</td>\n",
       "      <td>0.046432</td>\n",
       "      <td>-0.028923</td>\n",
       "      <td>1.000000</td>\n",
       "    </tr>\n",
       "  </tbody>\n",
       "</table>\n",
       "<p>37 rows × 37 columns</p>\n",
       "</div>"
      ],
      "text/plain": [
       "               MSSubClass  LotFrontage   LotArea  OverallQual  OverallCond  \\\n",
       "MSSubClass       1.000000    -0.386347 -0.139781     0.032628    -0.059316   \n",
       "LotFrontage     -0.386347     1.000000  0.426095     0.251646    -0.059213   \n",
       "LotArea         -0.139781     0.426095  1.000000     0.105806    -0.005636   \n",
       "OverallQual      0.032628     0.251646  0.105806     1.000000    -0.091932   \n",
       "OverallCond     -0.059316    -0.059213 -0.005636    -0.091932     1.000000   \n",
       "YearBuilt        0.027850     0.123349  0.014228     0.572323    -0.375983   \n",
       "YearRemodAdd     0.040581     0.088866  0.013788     0.550684     0.073741   \n",
       "MasVnrArea       0.022936     0.193458  0.104160     0.411876    -0.128101   \n",
       "BsmtFinSF1      -0.069836     0.233633  0.214103     0.239666    -0.046231   \n",
       "BsmtFinSF2      -0.065649     0.049900  0.111170    -0.059119     0.040229   \n",
       "BsmtUnfSF       -0.140759     0.132644 -0.002618     0.308159    -0.136841   \n",
       "TotalBsmtSF     -0.238518     0.392075  0.260833     0.537808    -0.171098   \n",
       "1stFlrSF        -0.251758     0.457181  0.299475     0.476224    -0.144203   \n",
       "2ndFlrSF         0.307886     0.080177  0.050986     0.295493     0.028942   \n",
       "LowQualFinSF     0.046474     0.038469  0.004779    -0.030429     0.025494   \n",
       "GrLivArea        0.074853     0.402797  0.263116     0.593007    -0.079686   \n",
       "BsmtFullBath     0.003491     0.100949  0.158155     0.111098    -0.054942   \n",
       "BsmtHalfBath    -0.002333    -0.007234  0.048046    -0.040150     0.117821   \n",
       "FullBath         0.131608     0.198769  0.126031     0.550600    -0.194149   \n",
       "HalfBath         0.177354     0.053532  0.014259     0.273458    -0.060769   \n",
       "BedroomAbvGr    -0.023438     0.263170  0.119690     0.101676     0.012980   \n",
       "KitchenAbvGr     0.281721    -0.006069 -0.017784    -0.183882    -0.087001   \n",
       "TotRmsAbvGrd     0.040380     0.352096  0.190015     0.427452    -0.057583   \n",
       "Fireplaces      -0.045569     0.266639  0.271364     0.396765    -0.023820   \n",
       "GarageYrBlt      0.085072     0.070250 -0.024947     0.547766    -0.324297   \n",
       "GarageCars      -0.040110     0.285691  0.154871     0.600671    -0.185758   \n",
       "GarageArea      -0.098672     0.344997  0.180403     0.562022    -0.151521   \n",
       "WoodDeckSF      -0.012579     0.088521  0.171698     0.238923    -0.003334   \n",
       "OpenPorchSF     -0.006100     0.151972  0.084774     0.308819    -0.032589   \n",
       "EnclosedPorch   -0.012037     0.010700 -0.018340    -0.113937     0.070356   \n",
       "3SsnPorch       -0.043825     0.070029  0.020423     0.030371     0.025504   \n",
       "ScreenPorch     -0.026030     0.041383  0.043160     0.064886     0.054811   \n",
       "PoolArea         0.008283     0.206167  0.077672     0.065166    -0.001985   \n",
       "MiscVal         -0.007683     0.003368  0.038068    -0.031406     0.068777   \n",
       "MoSold          -0.013585     0.011200  0.001205     0.070815    -0.003511   \n",
       "YrSold          -0.021407     0.007450 -0.014261    -0.027347     0.043950   \n",
       "SalePrice       -0.084284     0.351799  0.263843     0.790982    -0.077856   \n",
       "\n",
       "               YearBuilt  YearRemodAdd  MasVnrArea  BsmtFinSF1  BsmtFinSF2  \\\n",
       "MSSubClass      0.027850      0.040581    0.022936   -0.069836   -0.065649   \n",
       "LotFrontage     0.123349      0.088866    0.193458    0.233633    0.049900   \n",
       "LotArea         0.014228      0.013788    0.104160    0.214103    0.111170   \n",
       "OverallQual     0.572323      0.550684    0.411876    0.239666   -0.059119   \n",
       "OverallCond    -0.375983      0.073741   -0.128101   -0.046231    0.040229   \n",
       "YearBuilt       1.000000      0.592855    0.315707    0.249503   -0.049107   \n",
       "YearRemodAdd    0.592855      1.000000    0.179618    0.128451   -0.067759   \n",
       "MasVnrArea      0.315707      0.179618    1.000000    0.264736   -0.072319   \n",
       "BsmtFinSF1      0.249503      0.128451    0.264736    1.000000   -0.050117   \n",
       "BsmtFinSF2     -0.049107     -0.067759   -0.072319   -0.050117    1.000000   \n",
       "BsmtUnfSF       0.149040      0.181133    0.114442   -0.495251   -0.209294   \n",
       "TotalBsmtSF     0.391452      0.291066    0.363936    0.522396    0.104810   \n",
       "1stFlrSF        0.281986      0.240379    0.344501    0.445863    0.097117   \n",
       "2ndFlrSF        0.010308      0.140024    0.174561   -0.137079   -0.099260   \n",
       "LowQualFinSF   -0.183784     -0.062419   -0.069071   -0.064503    0.014807   \n",
       "GrLivArea       0.199010      0.287389    0.390857    0.208171   -0.009640   \n",
       "BsmtFullBath    0.187599      0.119470    0.085310    0.649212    0.158678   \n",
       "BsmtHalfBath   -0.038162     -0.012337    0.026673    0.067418    0.070948   \n",
       "FullBath        0.468271      0.439046    0.276833    0.058543   -0.076444   \n",
       "HalfBath        0.242656      0.183331    0.201444    0.004262   -0.032148   \n",
       "BedroomAbvGr   -0.070651     -0.040581    0.102821   -0.107355   -0.015728   \n",
       "KitchenAbvGr   -0.174800     -0.149598   -0.037610   -0.081007   -0.040751   \n",
       "TotRmsAbvGrd    0.095589      0.191740    0.280682    0.044316   -0.035227   \n",
       "Fireplaces      0.147716      0.112581    0.249070    0.260011    0.046921   \n",
       "GarageYrBlt     0.825667      0.642277    0.252691    0.153484   -0.088011   \n",
       "GarageCars      0.537850      0.420622    0.364204    0.224054   -0.038264   \n",
       "GarageArea      0.478954      0.371600    0.373066    0.296970   -0.018227   \n",
       "WoodDeckSF      0.224880      0.205726    0.159718    0.204306    0.067898   \n",
       "OpenPorchSF     0.188686      0.226298    0.125703    0.111761    0.003093   \n",
       "EnclosedPorch  -0.387268     -0.193919   -0.110204   -0.102303    0.036543   \n",
       "3SsnPorch       0.031355      0.045286    0.018796    0.026451   -0.029993   \n",
       "ScreenPorch    -0.050364     -0.038740    0.061466    0.062021    0.088871   \n",
       "PoolArea        0.004950      0.005829    0.011723    0.140491    0.041709   \n",
       "MiscVal        -0.034383     -0.010286   -0.029815    0.003571    0.004940   \n",
       "MoSold          0.012398      0.021490   -0.005965   -0.015727   -0.015211   \n",
       "YrSold         -0.013618      0.035743   -0.008201    0.014359    0.031706   \n",
       "SalePrice       0.522897      0.507101    0.477493    0.386420   -0.011378   \n",
       "\n",
       "               ...  WoodDeckSF  OpenPorchSF  EnclosedPorch  3SsnPorch  \\\n",
       "MSSubClass     ...   -0.012579    -0.006100      -0.012037  -0.043825   \n",
       "LotFrontage    ...    0.088521     0.151972       0.010700   0.070029   \n",
       "LotArea        ...    0.171698     0.084774      -0.018340   0.020423   \n",
       "OverallQual    ...    0.238923     0.308819      -0.113937   0.030371   \n",
       "OverallCond    ...   -0.003334    -0.032589       0.070356   0.025504   \n",
       "YearBuilt      ...    0.224880     0.188686      -0.387268   0.031355   \n",
       "YearRemodAdd   ...    0.205726     0.226298      -0.193919   0.045286   \n",
       "MasVnrArea     ...    0.159718     0.125703      -0.110204   0.018796   \n",
       "BsmtFinSF1     ...    0.204306     0.111761      -0.102303   0.026451   \n",
       "BsmtFinSF2     ...    0.067898     0.003093       0.036543  -0.029993   \n",
       "BsmtUnfSF      ...   -0.005316     0.129005      -0.002538   0.020764   \n",
       "TotalBsmtSF    ...    0.232019     0.247264      -0.095478   0.037384   \n",
       "1stFlrSF       ...    0.235459     0.211671      -0.065292   0.056104   \n",
       "2ndFlrSF       ...    0.092165     0.208026       0.061989  -0.024358   \n",
       "LowQualFinSF   ...   -0.025444     0.018251       0.061081  -0.004296   \n",
       "GrLivArea      ...    0.247433     0.330224       0.009113   0.020643   \n",
       "BsmtFullBath   ...    0.175315     0.067341      -0.049911  -0.000106   \n",
       "BsmtHalfBath   ...    0.040161    -0.025324      -0.008555   0.035114   \n",
       "FullBath       ...    0.187703     0.259977      -0.115093   0.035353   \n",
       "HalfBath       ...    0.108080     0.199740      -0.095317  -0.004972   \n",
       "BedroomAbvGr   ...    0.046854     0.093810       0.041570  -0.024478   \n",
       "KitchenAbvGr   ...   -0.090130    -0.070091       0.037312  -0.024600   \n",
       "TotRmsAbvGrd   ...    0.165984     0.234192       0.004151  -0.006683   \n",
       "Fireplaces     ...    0.200019     0.169405      -0.024822   0.011257   \n",
       "GarageYrBlt    ...    0.224577     0.228425      -0.297003   0.023544   \n",
       "GarageCars     ...    0.226342     0.213569      -0.151434   0.035765   \n",
       "GarageArea     ...    0.224666     0.241435      -0.121777   0.035087   \n",
       "WoodDeckSF     ...    1.000000     0.058661      -0.125989  -0.032771   \n",
       "OpenPorchSF    ...    0.058661     1.000000      -0.093079  -0.005842   \n",
       "EnclosedPorch  ...   -0.125989    -0.093079       1.000000  -0.037305   \n",
       "3SsnPorch      ...   -0.032771    -0.005842      -0.037305   1.000000   \n",
       "ScreenPorch    ...   -0.074181     0.074304      -0.082864  -0.031436   \n",
       "PoolArea       ...    0.073378     0.060762       0.054203  -0.007992   \n",
       "MiscVal        ...   -0.009551    -0.018584       0.018361   0.000354   \n",
       "MoSold         ...    0.021011     0.071255      -0.028887   0.029474   \n",
       "YrSold         ...    0.022270    -0.057619      -0.009916   0.018645   \n",
       "SalePrice      ...    0.324413     0.315856      -0.128578   0.044584   \n",
       "\n",
       "               ScreenPorch  PoolArea   MiscVal    MoSold    YrSold  SalePrice  \n",
       "MSSubClass       -0.026030  0.008283 -0.007683 -0.013585 -0.021407  -0.084284  \n",
       "LotFrontage       0.041383  0.206167  0.003368  0.011200  0.007450   0.351799  \n",
       "LotArea           0.043160  0.077672  0.038068  0.001205 -0.014261   0.263843  \n",
       "OverallQual       0.064886  0.065166 -0.031406  0.070815 -0.027347   0.790982  \n",
       "OverallCond       0.054811 -0.001985  0.068777 -0.003511  0.043950  -0.077856  \n",
       "YearBuilt        -0.050364  0.004950 -0.034383  0.012398 -0.013618   0.522897  \n",
       "YearRemodAdd     -0.038740  0.005829 -0.010286  0.021490  0.035743   0.507101  \n",
       "MasVnrArea        0.061466  0.011723 -0.029815 -0.005965 -0.008201   0.477493  \n",
       "BsmtFinSF1        0.062021  0.140491  0.003571 -0.015727  0.014359   0.386420  \n",
       "BsmtFinSF2        0.088871  0.041709  0.004940 -0.015211  0.031706  -0.011378  \n",
       "BsmtUnfSF        -0.012579 -0.035092 -0.023837  0.034888 -0.041258   0.214479  \n",
       "TotalBsmtSF       0.084489  0.126053 -0.018479  0.013196 -0.014969   0.613581  \n",
       "1stFlrSF          0.088758  0.131525 -0.021096  0.031372 -0.013604   0.605852  \n",
       "2ndFlrSF          0.040606  0.081487  0.016197  0.035164 -0.028700   0.319334  \n",
       "LowQualFinSF      0.026799  0.062157 -0.003793 -0.022174 -0.028921  -0.025606  \n",
       "GrLivArea         0.101510  0.170205 -0.002416  0.050240 -0.036526   0.708624  \n",
       "BsmtFullBath      0.023148  0.067616 -0.023047 -0.025361  0.067049   0.227122  \n",
       "BsmtHalfBath      0.032121  0.020025 -0.007367  0.032873 -0.046524  -0.016844  \n",
       "FullBath         -0.008106  0.049604 -0.014290  0.055872 -0.019669   0.560664  \n",
       "HalfBath          0.072426  0.022381  0.001290 -0.009050 -0.010269   0.284108  \n",
       "BedroomAbvGr      0.044300  0.070703  0.007767  0.046544 -0.036014   0.168213  \n",
       "KitchenAbvGr     -0.051613 -0.014525  0.062341  0.026589  0.031687  -0.135907  \n",
       "TotRmsAbvGrd      0.059383  0.083757  0.024763  0.036907 -0.034516   0.533723  \n",
       "Fireplaces        0.184530  0.095074  0.001409  0.046357 -0.024096   0.466929  \n",
       "GarageYrBlt      -0.075418 -0.014501 -0.032417  0.005337 -0.001014   0.486362  \n",
       "GarageCars        0.050494  0.020934 -0.043080  0.040522 -0.039117   0.640409  \n",
       "GarageArea        0.051412  0.061047 -0.027400  0.027974 -0.027378   0.623431  \n",
       "WoodDeckSF       -0.074181  0.073378 -0.009551  0.021011  0.022270   0.324413  \n",
       "OpenPorchSF       0.074304  0.060762 -0.018584  0.071255 -0.057619   0.315856  \n",
       "EnclosedPorch    -0.082864  0.054203  0.018361 -0.028887 -0.009916  -0.128578  \n",
       "3SsnPorch        -0.031436 -0.007992  0.000354  0.029474  0.018645   0.044584  \n",
       "ScreenPorch       1.000000  0.051307  0.031946  0.023217  0.010694   0.111447  \n",
       "PoolArea          0.051307  1.000000  0.029669 -0.033737 -0.059689   0.092404  \n",
       "MiscVal           0.031946  0.029669  1.000000 -0.006495  0.004906  -0.021190  \n",
       "MoSold            0.023217 -0.033737 -0.006495  1.000000 -0.145721   0.046432  \n",
       "YrSold            0.010694 -0.059689  0.004906 -0.145721  1.000000  -0.028923  \n",
       "SalePrice         0.111447  0.092404 -0.021190  0.046432 -0.028923   1.000000  \n",
       "\n",
       "[37 rows x 37 columns]"
      ]
     },
     "execution_count": 14,
     "metadata": {},
     "output_type": "execute_result"
    }
   ],
   "source": [
    "# Select only the numeric columns from the DataFrame\n",
    "numeric_df = train_df.select_dtypes(include=[float, int])\n",
    "\n",
    "# Correlation matrix\n",
    "numeric_df.corr()"
   ]
  },
  {
   "cell_type": "markdown",
   "id": "ec44078b",
   "metadata": {
    "papermill": {
     "duration": 0.015923,
     "end_time": "2024-08-20T01:05:28.627698",
     "exception": false,
     "start_time": "2024-08-20T01:05:28.611775",
     "status": "completed"
    },
    "tags": []
   },
   "source": [
    "# Data Cleaning"
   ]
  },
  {
   "cell_type": "markdown",
   "id": "93610b59",
   "metadata": {
    "papermill": {
     "duration": 0.015757,
     "end_time": "2024-08-20T01:05:28.659545",
     "exception": false,
     "start_time": "2024-08-20T01:05:28.643788",
     "status": "completed"
    },
    "tags": []
   },
   "source": [
    "Data Redundancy"
   ]
  },
  {
   "cell_type": "markdown",
   "id": "5fcf7657",
   "metadata": {
    "papermill": {
     "duration": 0.017867,
     "end_time": "2024-08-20T01:05:28.693351",
     "exception": false,
     "start_time": "2024-08-20T01:05:28.675484",
     "status": "completed"
    },
    "tags": []
   },
   "source": [
    "columns"
   ]
  },
  {
   "cell_type": "code",
   "execution_count": 15,
   "id": "2142497b",
   "metadata": {
    "execution": {
     "iopub.execute_input": "2024-08-20T01:05:28.727539Z",
     "iopub.status.busy": "2024-08-20T01:05:28.727129Z",
     "iopub.status.idle": "2024-08-20T01:05:28.733719Z",
     "shell.execute_reply": "2024-08-20T01:05:28.732526Z"
    },
    "papermill": {
     "duration": 0.026831,
     "end_time": "2024-08-20T01:05:28.736598",
     "exception": false,
     "start_time": "2024-08-20T01:05:28.709767",
     "status": "completed"
    },
    "tags": []
   },
   "outputs": [
    {
     "name": "stdout",
     "output_type": "stream",
     "text": [
      "No duplicated columns found.\n"
     ]
    }
   ],
   "source": [
    "duplicated_columns = train_df.columns[train_df.columns.duplicated()]\n",
    "if len(duplicated_columns) > 0:\n",
    "    print(\"Duplicated columns:\", duplicated_columns)\n",
    "else:\n",
    "    print(\"No duplicated columns found.\")"
   ]
  },
  {
   "cell_type": "markdown",
   "id": "5f64aad3",
   "metadata": {
    "papermill": {
     "duration": 0.01615,
     "end_time": "2024-08-20T01:05:28.769132",
     "exception": false,
     "start_time": "2024-08-20T01:05:28.752982",
     "status": "completed"
    },
    "tags": []
   },
   "source": [
    "rows"
   ]
  },
  {
   "cell_type": "code",
   "execution_count": 16,
   "id": "07d353d9",
   "metadata": {
    "execution": {
     "iopub.execute_input": "2024-08-20T01:05:28.803656Z",
     "iopub.status.busy": "2024-08-20T01:05:28.803174Z",
     "iopub.status.idle": "2024-08-20T01:05:28.821684Z",
     "shell.execute_reply": "2024-08-20T01:05:28.820574Z"
    },
    "papermill": {
     "duration": 0.038905,
     "end_time": "2024-08-20T01:05:28.824141",
     "exception": false,
     "start_time": "2024-08-20T01:05:28.785236",
     "status": "completed"
    },
    "tags": []
   },
   "outputs": [
    {
     "name": "stdout",
     "output_type": "stream",
     "text": [
      "No duplicated rows found.\n"
     ]
    }
   ],
   "source": [
    "duplicated_rows = train_df[train_df.duplicated()]\n",
    "if not duplicated_rows.empty:\n",
    "    print(\"Duplicated rows:\")\n",
    "    print(duplicated_rows)\n",
    "else:\n",
    "    print(\"No duplicated rows found.\")"
   ]
  },
  {
   "cell_type": "markdown",
   "id": "5f56c60c",
   "metadata": {
    "papermill": {
     "duration": 0.01617,
     "end_time": "2024-08-20T01:05:28.856531",
     "exception": false,
     "start_time": "2024-08-20T01:05:28.840361",
     "status": "completed"
    },
    "tags": []
   },
   "source": [
    "Missing Values"
   ]
  },
  {
   "cell_type": "code",
   "execution_count": 17,
   "id": "d07558c6",
   "metadata": {
    "execution": {
     "iopub.execute_input": "2024-08-20T01:05:28.891011Z",
     "iopub.status.busy": "2024-08-20T01:05:28.890594Z",
     "iopub.status.idle": "2024-08-20T01:05:29.657611Z",
     "shell.execute_reply": "2024-08-20T01:05:29.656400Z"
    },
    "papermill": {
     "duration": 0.787254,
     "end_time": "2024-08-20T01:05:29.660073",
     "exception": false,
     "start_time": "2024-08-20T01:05:28.872819",
     "status": "completed"
    },
    "tags": []
   },
   "outputs": [
    {
     "data": {
      "text/plain": [
       "<Axes: >"
      ]
     },
     "execution_count": 17,
     "metadata": {},
     "output_type": "execute_result"
    },
    {
     "data": {
      "image/png": "[encoded data removed]",
      "text/plain": [
       "<Figure size 2500x1000 with 2 Axes>"
      ]
     },
     "metadata": {},
     "output_type": "display_data"
    }
   ],
   "source": [
    "msno.matrix(train_df)"
   ]
  },
  {
   "cell_type": "markdown",
   "id": "a34314c8",
   "metadata": {
    "papermill": {
     "duration": 0.01703,
     "end_time": "2024-08-20T01:05:29.694349",
     "exception": false,
     "start_time": "2024-08-20T01:05:29.677319",
     "status": "completed"
    },
    "tags": []
   },
   "source": [
    "Mean for missing numerical features"
   ]
  },
  {
   "cell_type": "code",
   "execution_count": 18,
   "id": "cca3f5a7",
   "metadata": {
    "execution": {
     "iopub.execute_input": "2024-08-20T01:05:29.731006Z",
     "iopub.status.busy": "2024-08-20T01:05:29.730596Z",
     "iopub.status.idle": "2024-08-20T01:05:29.744751Z",
     "shell.execute_reply": "2024-08-20T01:05:29.743591Z"
    },
    "papermill": {
     "duration": 0.036021,
     "end_time": "2024-08-20T01:05:29.747754",
     "exception": false,
     "start_time": "2024-08-20T01:05:29.711733",
     "status": "completed"
    },
    "tags": []
   },
   "outputs": [],
   "source": [
    "imputer = SimpleImputer(missing_values=np.nan, strategy='mean')\n",
    "null_numerical_columns = ['LotFrontage', 'MasVnrArea', 'GarageYrBlt']\n",
    "imputer.fit(train_df[null_numerical_columns])\n",
    "train_df[null_numerical_columns] = imputer.transform(train_df[null_numerical_columns])"
   ]
  },
  {
   "cell_type": "markdown",
   "id": "7bfa9aeb",
   "metadata": {
    "papermill": {
     "duration": 0.017641,
     "end_time": "2024-08-20T01:05:29.782908",
     "exception": false,
     "start_time": "2024-08-20T01:05:29.765267",
     "status": "completed"
    },
    "tags": []
   },
   "source": [
    "Most frequent for missing categorical features"
   ]
  },
  {
   "cell_type": "code",
   "execution_count": 19,
   "id": "32a35dbf",
   "metadata": {
    "execution": {
     "iopub.execute_input": "2024-08-20T01:05:29.820796Z",
     "iopub.status.busy": "2024-08-20T01:05:29.819905Z",
     "iopub.status.idle": "2024-08-20T01:05:29.838452Z",
     "shell.execute_reply": "2024-08-20T01:05:29.837256Z"
    },
    "papermill": {
     "duration": 0.040921,
     "end_time": "2024-08-20T01:05:29.841156",
     "exception": false,
     "start_time": "2024-08-20T01:05:29.800235",
     "status": "completed"
    },
    "tags": []
   },
   "outputs": [],
   "source": [
    "imputer = SimpleImputer(missing_values=np.nan, strategy='most_frequent')\n",
    "null_catagorical_columns = ['Alley', 'MasVnrType', 'BsmtQual', 'BsmtCond', 'BsmtExposure', 'BsmtFinType1', 'BsmtFinType2', 'Electrical', 'FireplaceQu', 'GarageType', 'GarageFinish', 'GarageQual', 'GarageCond', 'PoolQC', 'Fence', 'MiscFeature']\n",
    "imputer.fit(train_df[null_catagorical_columns])\n",
    "train_df[null_catagorical_columns] = imputer.transform(train_df[null_catagorical_columns])"
   ]
  },
  {
   "cell_type": "code",
   "execution_count": 20,
   "id": "63076896",
   "metadata": {
    "execution": {
     "iopub.execute_input": "2024-08-20T01:05:29.878086Z",
     "iopub.status.busy": "2024-08-20T01:05:29.877671Z",
     "iopub.status.idle": "2024-08-20T01:05:29.891647Z",
     "shell.execute_reply": "2024-08-20T01:05:29.890391Z"
    },
    "papermill": {
     "duration": 0.035896,
     "end_time": "2024-08-20T01:05:29.894320",
     "exception": false,
     "start_time": "2024-08-20T01:05:29.858424",
     "status": "completed"
    },
    "tags": []
   },
   "outputs": [
    {
     "data": {
      "text/plain": [
       "0"
      ]
     },
     "execution_count": 20,
     "metadata": {},
     "output_type": "execute_result"
    }
   ],
   "source": [
    "train_df.isnull().sum().sum()"
   ]
  },
  {
   "cell_type": "markdown",
   "id": "558487b7",
   "metadata": {
    "papermill": {
     "duration": 0.017513,
     "end_time": "2024-08-20T01:05:29.929814",
     "exception": false,
     "start_time": "2024-08-20T01:05:29.912301",
     "status": "completed"
    },
    "tags": []
   },
   "source": [
    "One Hot Encoder"
   ]
  },
  {
   "cell_type": "code",
   "execution_count": 21,
   "id": "cad30fb1",
   "metadata": {
    "execution": {
     "iopub.execute_input": "2024-08-20T01:05:29.967086Z",
     "iopub.status.busy": "2024-08-20T01:05:29.966667Z",
     "iopub.status.idle": "2024-08-20T01:05:30.036984Z",
     "shell.execute_reply": "2024-08-20T01:05:30.035634Z"
    },
    "papermill": {
     "duration": 0.092716,
     "end_time": "2024-08-20T01:05:30.040468",
     "exception": false,
     "start_time": "2024-08-20T01:05:29.947752",
     "status": "completed"
    },
    "tags": []
   },
   "outputs": [
    {
     "data": {
      "text/html": [
       "<div>\n",
       "<style scoped>\n",
       "    .dataframe tbody tr th:only-of-type {\n",
       "        vertical-align: middle;\n",
       "    }\n",
       "\n",
       "    .dataframe tbody tr th {\n",
       "        vertical-align: top;\n",
       "    }\n",
       "\n",
       "    .dataframe thead th {\n",
       "        text-align: right;\n",
       "    }\n",
       "</style>\n",
       "<table border=\"1\" class=\"dataframe\">\n",
       "  <thead>\n",
       "    <tr style=\"text-align: right;\">\n",
       "      <th></th>\n",
       "      <th>MSSubClass</th>\n",
       "      <th>LotFrontage</th>\n",
       "      <th>LotArea</th>\n",
       "      <th>OverallQual</th>\n",
       "      <th>OverallCond</th>\n",
       "      <th>YearBuilt</th>\n",
       "      <th>YearRemodAdd</th>\n",
       "      <th>MasVnrArea</th>\n",
       "      <th>BsmtFinSF1</th>\n",
       "      <th>BsmtFinSF2</th>\n",
       "      <th>...</th>\n",
       "      <th>SaleType_ConLI</th>\n",
       "      <th>SaleType_ConLw</th>\n",
       "      <th>SaleType_New</th>\n",
       "      <th>SaleType_Oth</th>\n",
       "      <th>SaleType_WD</th>\n",
       "      <th>SaleCondition_AdjLand</th>\n",
       "      <th>SaleCondition_Alloca</th>\n",
       "      <th>SaleCondition_Family</th>\n",
       "      <th>SaleCondition_Normal</th>\n",
       "      <th>SaleCondition_Partial</th>\n",
       "    </tr>\n",
       "  </thead>\n",
       "  <tbody>\n",
       "    <tr>\n",
       "      <th>0</th>\n",
       "      <td>60</td>\n",
       "      <td>65.0</td>\n",
       "      <td>8450</td>\n",
       "      <td>7</td>\n",
       "      <td>5</td>\n",
       "      <td>2003</td>\n",
       "      <td>2003</td>\n",
       "      <td>196.0</td>\n",
       "      <td>706</td>\n",
       "      <td>0</td>\n",
       "      <td>...</td>\n",
       "      <td>False</td>\n",
       "      <td>False</td>\n",
       "      <td>False</td>\n",
       "      <td>False</td>\n",
       "      <td>True</td>\n",
       "      <td>False</td>\n",
       "      <td>False</td>\n",
       "      <td>False</td>\n",
       "      <td>True</td>\n",
       "      <td>False</td>\n",
       "    </tr>\n",
       "    <tr>\n",
       "      <th>1</th>\n",
       "      <td>20</td>\n",
       "      <td>80.0</td>\n",
       "      <td>9600</td>\n",
       "      <td>6</td>\n",
       "      <td>8</td>\n",
       "      <td>1976</td>\n",
       "      <td>1976</td>\n",
       "      <td>0.0</td>\n",
       "      <td>978</td>\n",
       "      <td>0</td>\n",
       "      <td>...</td>\n",
       "      <td>False</td>\n",
       "      <td>False</td>\n",
       "      <td>False</td>\n",
       "      <td>False</td>\n",
       "      <td>True</td>\n",
       "      <td>False</td>\n",
       "      <td>False</td>\n",
       "      <td>False</td>\n",
       "      <td>True</td>\n",
       "      <td>False</td>\n",
       "    </tr>\n",
       "    <tr>\n",
       "      <th>2</th>\n",
       "      <td>60</td>\n",
       "      <td>68.0</td>\n",
       "      <td>11250</td>\n",
       "      <td>7</td>\n",
       "      <td>5</td>\n",
       "      <td>2001</td>\n",
       "      <td>2002</td>\n",
       "      <td>162.0</td>\n",
       "      <td>486</td>\n",
       "      <td>0</td>\n",
       "      <td>...</td>\n",
       "      <td>False</td>\n",
       "      <td>False</td>\n",
       "      <td>False</td>\n",
       "      <td>False</td>\n",
       "      <td>True</td>\n",
       "      <td>False</td>\n",
       "      <td>False</td>\n",
       "      <td>False</td>\n",
       "      <td>True</td>\n",
       "      <td>False</td>\n",
       "    </tr>\n",
       "    <tr>\n",
       "      <th>3</th>\n",
       "      <td>70</td>\n",
       "      <td>60.0</td>\n",
       "      <td>9550</td>\n",
       "      <td>7</td>\n",
       "      <td>5</td>\n",
       "      <td>1915</td>\n",
       "      <td>1970</td>\n",
       "      <td>0.0</td>\n",
       "      <td>216</td>\n",
       "      <td>0</td>\n",
       "      <td>...</td>\n",
       "      <td>False</td>\n",
       "      <td>False</td>\n",
       "      <td>False</td>\n",
       "      <td>False</td>\n",
       "      <td>True</td>\n",
       "      <td>False</td>\n",
       "      <td>False</td>\n",
       "      <td>False</td>\n",
       "      <td>False</td>\n",
       "      <td>False</td>\n",
       "    </tr>\n",
       "    <tr>\n",
       "      <th>4</th>\n",
       "      <td>60</td>\n",
       "      <td>84.0</td>\n",
       "      <td>14260</td>\n",
       "      <td>8</td>\n",
       "      <td>5</td>\n",
       "      <td>2000</td>\n",
       "      <td>2000</td>\n",
       "      <td>350.0</td>\n",
       "      <td>655</td>\n",
       "      <td>0</td>\n",
       "      <td>...</td>\n",
       "      <td>False</td>\n",
       "      <td>False</td>\n",
       "      <td>False</td>\n",
       "      <td>False</td>\n",
       "      <td>True</td>\n",
       "      <td>False</td>\n",
       "      <td>False</td>\n",
       "      <td>False</td>\n",
       "      <td>True</td>\n",
       "      <td>False</td>\n",
       "    </tr>\n",
       "  </tbody>\n",
       "</table>\n",
       "<p>5 rows × 245 columns</p>\n",
       "</div>"
      ],
      "text/plain": [
       "   MSSubClass  LotFrontage  LotArea  OverallQual  OverallCond  YearBuilt  \\\n",
       "0          60         65.0     8450            7            5       2003   \n",
       "1          20         80.0     9600            6            8       1976   \n",
       "2          60         68.0    11250            7            5       2001   \n",
       "3          70         60.0     9550            7            5       1915   \n",
       "4          60         84.0    14260            8            5       2000   \n",
       "\n",
       "   YearRemodAdd  MasVnrArea  BsmtFinSF1  BsmtFinSF2  ...  SaleType_ConLI  \\\n",
       "0          2003       196.0         706           0  ...           False   \n",
       "1          1976         0.0         978           0  ...           False   \n",
       "2          2002       162.0         486           0  ...           False   \n",
       "3          1970         0.0         216           0  ...           False   \n",
       "4          2000       350.0         655           0  ...           False   \n",
       "\n",
       "   SaleType_ConLw  SaleType_New  SaleType_Oth  SaleType_WD  \\\n",
       "0           False         False         False         True   \n",
       "1           False         False         False         True   \n",
       "2           False         False         False         True   \n",
       "3           False         False         False         True   \n",
       "4           False         False         False         True   \n",
       "\n",
       "   SaleCondition_AdjLand  SaleCondition_Alloca  SaleCondition_Family  \\\n",
       "0                  False                 False                 False   \n",
       "1                  False                 False                 False   \n",
       "2                  False                 False                 False   \n",
       "3                  False                 False                 False   \n",
       "4                  False                 False                 False   \n",
       "\n",
       "   SaleCondition_Normal  SaleCondition_Partial  \n",
       "0                  True                  False  \n",
       "1                  True                  False  \n",
       "2                  True                  False  \n",
       "3                 False                  False  \n",
       "4                  True                  False  \n",
       "\n",
       "[5 rows x 245 columns]"
      ]
     },
     "execution_count": 21,
     "metadata": {},
     "output_type": "execute_result"
    }
   ],
   "source": [
    "# Encode the selected columns\n",
    "dummies = pd.get_dummies(train_df[categorical_features], drop_first=True)\n",
    "\n",
    "# Concatenate the encoded columns with the original dataset\n",
    "train_df = pd.concat([train_df, dummies], axis=1)\n",
    "\n",
    "# Drop the original columns that have been encoded\n",
    "train_df.drop(categorical_features, axis=1, inplace=True)\n",
    "\n",
    "# Output the modified dataset\n",
    "train_df.head()"
   ]
  },
  {
   "cell_type": "markdown",
   "id": "46e0a642",
   "metadata": {
    "papermill": {
     "duration": 0.017544,
     "end_time": "2024-08-20T01:05:30.076196",
     "exception": false,
     "start_time": "2024-08-20T01:05:30.058652",
     "status": "completed"
    },
    "tags": []
   },
   "source": [
    "# Plotting relationship between variables"
   ]
  },
  {
   "cell_type": "markdown",
   "id": "574c1b8a",
   "metadata": {
    "papermill": {
     "duration": 0.017458,
     "end_time": "2024-08-20T01:05:30.111599",
     "exception": false,
     "start_time": "2024-08-20T01:05:30.094141",
     "status": "completed"
    },
    "tags": []
   },
   "source": [
    "SalePrice's Density"
   ]
  },
  {
   "cell_type": "code",
   "execution_count": 22,
   "id": "5482604b",
   "metadata": {
    "execution": {
     "iopub.execute_input": "2024-08-20T01:05:30.150478Z",
     "iopub.status.busy": "2024-08-20T01:05:30.149833Z",
     "iopub.status.idle": "2024-08-20T01:05:30.569804Z",
     "shell.execute_reply": "2024-08-20T01:05:30.568672Z"
    },
    "papermill": {
     "duration": 0.443856,
     "end_time": "2024-08-20T01:05:30.573311",
     "exception": false,
     "start_time": "2024-08-20T01:05:30.129455",
     "status": "completed"
    },
    "tags": []
   },
   "outputs": [
    {
     "data": {
      "image/png": "[encoded data removed]",
      "text/plain": [
       "<Figure size 640x480 with 1 Axes>"
      ]
     },
     "metadata": {},
     "output_type": "display_data"
    }
   ],
   "source": [
    "sns.distplot(train_df['SalePrice']);"
   ]
  },
  {
   "cell_type": "markdown",
   "id": "a8386bc8",
   "metadata": {
    "papermill": {
     "duration": 0.024952,
     "end_time": "2024-08-20T01:05:30.620890",
     "exception": false,
     "start_time": "2024-08-20T01:05:30.595938",
     "status": "completed"
    },
    "tags": []
   },
   "source": [
    "SalePrice vs OverallQual"
   ]
  },
  {
   "cell_type": "code",
   "execution_count": 23,
   "id": "be815145",
   "metadata": {
    "execution": {
     "iopub.execute_input": "2024-08-20T01:05:30.660741Z",
     "iopub.status.busy": "2024-08-20T01:05:30.660366Z",
     "iopub.status.idle": "2024-08-20T01:05:33.033844Z",
     "shell.execute_reply": "2024-08-20T01:05:33.032635Z"
    },
    "papermill": {
     "duration": 2.395716,
     "end_time": "2024-08-20T01:05:33.036638",
     "exception": false,
     "start_time": "2024-08-20T01:05:30.640922",
     "status": "completed"
    },
    "tags": []
   },
   "outputs": [
    {
     "data": {
      "image/png": "[encoded data removed]",
      "text/plain": [
       "<Figure size 800x600 with 1 Axes>"
      ]
     },
     "metadata": {},
     "output_type": "display_data"
    }
   ],
   "source": [
    "plt.figure(figsize=(8, 6))\n",
    "plt.bar(train_df['OverallQual'], train_df['SalePrice'], color='skyblue')  # Create the bar plot\n",
    "plt.xlabel('OverallQual', fontsize=12)\n",
    "plt.ylabel('SalePrice', fontsize=12)\n",
    "plt.title('SalePrice vs OverallQual', fontsize=16) \n",
    "\n",
    "\n",
    "plt.show()"
   ]
  },
  {
   "cell_type": "markdown",
   "id": "ae86c37b",
   "metadata": {
    "papermill": {
     "duration": 0.018935,
     "end_time": "2024-08-20T01:05:33.076042",
     "exception": false,
     "start_time": "2024-08-20T01:05:33.057107",
     "status": "completed"
    },
    "tags": []
   },
   "source": [
    "SalePrice vs YearBuilt"
   ]
  },
  {
   "cell_type": "code",
   "execution_count": 24,
   "id": "8b3a58c3",
   "metadata": {
    "execution": {
     "iopub.execute_input": "2024-08-20T01:05:33.115705Z",
     "iopub.status.busy": "2024-08-20T01:05:33.115230Z",
     "iopub.status.idle": "2024-08-20T01:05:35.688867Z",
     "shell.execute_reply": "2024-08-20T01:05:35.687424Z"
    },
    "papermill": {
     "duration": 2.596629,
     "end_time": "2024-08-20T01:05:35.691868",
     "exception": false,
     "start_time": "2024-08-20T01:05:33.095239",
     "status": "completed"
    },
    "tags": []
   },
   "outputs": [
    {
     "data": {
      "image/png": "[encoded data removed]",
      "text/plain": [
       "<Figure size 1200x600 with 1 Axes>"
      ]
     },
     "metadata": {},
     "output_type": "display_data"
    }
   ],
   "source": [
    "plt.figure(figsize=(12, 6))  \n",
    "\n",
    "sns.lineplot(x=\"YearBuilt\", y=\"SalePrice\", data=train_df, label='SalePrice', marker='o', color='grey')\n",
    "\n",
    "plt.title(\"SalePrice vs YearBuilt\", fontsize=16)\n",
    "plt.xlabel(\"YearBuilt\", fontsize=12)\n",
    "plt.ylabel(\"SalePrice\", fontsize=12)\n",
    "\n",
    "# Customize the x-axis ticks to show more years\n",
    "plt.xticks(range(min(train_df['YearBuilt']), max(train_df['YearBuilt']) + 1, 10))  # Adjust the interval (e.g., 10 years)\n",
    "\n",
    "plt.legend()\n",
    "plt.tight_layout()\n",
    "plt.show()"
   ]
  },
  {
   "cell_type": "markdown",
   "id": "fe994ad0",
   "metadata": {
    "papermill": {
     "duration": 0.020786,
     "end_time": "2024-08-20T01:05:35.734163",
     "exception": false,
     "start_time": "2024-08-20T01:05:35.713377",
     "status": "completed"
    },
    "tags": []
   },
   "source": [
    "SalePrice vs GarageCars"
   ]
  },
  {
   "cell_type": "code",
   "execution_count": 25,
   "id": "dd82d582",
   "metadata": {
    "execution": {
     "iopub.execute_input": "2024-08-20T01:05:35.777779Z",
     "iopub.status.busy": "2024-08-20T01:05:35.777366Z",
     "iopub.status.idle": "2024-08-20T01:05:36.268657Z",
     "shell.execute_reply": "2024-08-20T01:05:36.267368Z"
    },
    "papermill": {
     "duration": 0.516143,
     "end_time": "2024-08-20T01:05:36.271143",
     "exception": false,
     "start_time": "2024-08-20T01:05:35.755000",
     "status": "completed"
    },
    "tags": []
   },
   "outputs": [
    {
     "data": {
      "image/png": "[encoded data removed]",
      "text/plain": [
       "<Figure size 640x480 with 1 Axes>"
      ]
     },
     "metadata": {},
     "output_type": "display_data"
    }
   ],
   "source": [
    "sns.set(style=\"whitegrid\")\n",
    "ax = sns.barplot(x=\"GarageCars\", y=\"SalePrice\", data=train_df, color='red')\n",
    "plt.title(\"SalePrice vs GarageCars\", fontsize=16)\n",
    "ax.set_xlabel(\"GarageCars\", fontsize=12)\n",
    "ax.set_ylabel(\"SalePrice\", fontsize=12)\n",
    "plt.tight_layout()\n",
    "plt.show()"
   ]
  },
  {
   "cell_type": "markdown",
   "id": "e606df23",
   "metadata": {
    "papermill": {
     "duration": 0.02071,
     "end_time": "2024-08-20T01:05:36.312718",
     "exception": false,
     "start_time": "2024-08-20T01:05:36.292008",
     "status": "completed"
    },
    "tags": []
   },
   "source": [
    "# Machine Learning"
   ]
  },
  {
   "cell_type": "markdown",
   "id": "b65ac2a9",
   "metadata": {
    "papermill": {
     "duration": 0.020445,
     "end_time": "2024-08-20T01:05:36.353741",
     "exception": false,
     "start_time": "2024-08-20T01:05:36.333296",
     "status": "completed"
    },
    "tags": []
   },
   "source": [
    "Pre-processing Steps for Machine Learning\n"
   ]
  },
  {
   "cell_type": "code",
   "execution_count": 26,
   "id": "f705f457",
   "metadata": {
    "execution": {
     "iopub.execute_input": "2024-08-20T01:05:36.399287Z",
     "iopub.status.busy": "2024-08-20T01:05:36.397984Z",
     "iopub.status.idle": "2024-08-20T01:05:36.405607Z",
     "shell.execute_reply": "2024-08-20T01:05:36.404420Z"
    },
    "papermill": {
     "duration": 0.033164,
     "end_time": "2024-08-20T01:05:36.408158",
     "exception": false,
     "start_time": "2024-08-20T01:05:36.374994",
     "status": "completed"
    },
    "tags": []
   },
   "outputs": [],
   "source": [
    "X = train_df.drop('SalePrice', axis=1)\n",
    "y = train_df['SalePrice']"
   ]
  },
  {
   "cell_type": "markdown",
   "id": "2582603a",
   "metadata": {
    "papermill": {
     "duration": 0.022707,
     "end_time": "2024-08-20T01:05:36.453548",
     "exception": false,
     "start_time": "2024-08-20T01:05:36.430841",
     "status": "completed"
    },
    "tags": []
   },
   "source": [
    "Spliting the Data"
   ]
  },
  {
   "cell_type": "code",
   "execution_count": 27,
   "id": "bf87a9db",
   "metadata": {
    "execution": {
     "iopub.execute_input": "2024-08-20T01:05:36.498247Z",
     "iopub.status.busy": "2024-08-20T01:05:36.497688Z",
     "iopub.status.idle": "2024-08-20T01:05:36.508801Z",
     "shell.execute_reply": "2024-08-20T01:05:36.507516Z"
    },
    "papermill": {
     "duration": 0.036666,
     "end_time": "2024-08-20T01:05:36.511934",
     "exception": false,
     "start_time": "2024-08-20T01:05:36.475268",
     "status": "completed"
    },
    "tags": []
   },
   "outputs": [],
   "source": [
    "X_train, X_test, y_train, y_test = train_test_split(X, y, test_size=0.2, random_state=42)"
   ]
  },
  {
   "cell_type": "markdown",
   "id": "aa1dc78f",
   "metadata": {
    "papermill": {
     "duration": 0.021083,
     "end_time": "2024-08-20T01:05:36.554352",
     "exception": false,
     "start_time": "2024-08-20T01:05:36.533269",
     "status": "completed"
    },
    "tags": []
   },
   "source": [
    "Feature Scaling"
   ]
  },
  {
   "cell_type": "code",
   "execution_count": 28,
   "id": "766f8e9c",
   "metadata": {
    "execution": {
     "iopub.execute_input": "2024-08-20T01:05:36.599580Z",
     "iopub.status.busy": "2024-08-20T01:05:36.599188Z",
     "iopub.status.idle": "2024-08-20T01:05:36.631403Z",
     "shell.execute_reply": "2024-08-20T01:05:36.629986Z"
    },
    "papermill": {
     "duration": 0.05732,
     "end_time": "2024-08-20T01:05:36.634415",
     "exception": false,
     "start_time": "2024-08-20T01:05:36.577095",
     "status": "completed"
    },
    "tags": []
   },
   "outputs": [],
   "source": [
    "sc = StandardScaler()\n",
    "X_train = sc.fit_transform(X_train)\n",
    "X_test = sc.transform(X_test)"
   ]
  },
  {
   "cell_type": "markdown",
   "id": "2f4600f3",
   "metadata": {
    "papermill": {
     "duration": 0.020265,
     "end_time": "2024-08-20T01:05:36.675348",
     "exception": false,
     "start_time": "2024-08-20T01:05:36.655083",
     "status": "completed"
    },
    "tags": []
   },
   "source": [
    "Model Selection"
   ]
  },
  {
   "cell_type": "code",
   "execution_count": 29,
   "id": "a4bbe246",
   "metadata": {
    "execution": {
     "iopub.execute_input": "2024-08-20T01:05:36.720001Z",
     "iopub.status.busy": "2024-08-20T01:05:36.719591Z",
     "iopub.status.idle": "2024-08-20T01:06:19.114638Z",
     "shell.execute_reply": "2024-08-20T01:06:19.113156Z"
    },
    "papermill": {
     "duration": 42.44329,
     "end_time": "2024-08-20T01:06:19.140029",
     "exception": false,
     "start_time": "2024-08-20T01:05:36.696739",
     "status": "completed"
    },
    "tags": []
   },
   "outputs": [
    {
     "name": "stdout",
     "output_type": "stream",
     "text": [
      "Best Model: Random Forest Regression\n",
      "Mean Squared Error on Test Data: 880760495.994898\n"
     ]
    }
   ],
   "source": [
    "# Initialize models\n",
    "models = {\n",
    "    \"Multiple Linear Regression\": LinearRegression(),\n",
    "    \"Polynomial Regression\": LinearRegression(),\n",
    "    \"Support Vector Regression\": SVR(),\n",
    "    \"Decision Tree Regression\": DecisionTreeRegressor(),\n",
    "    \"Random Forest Regression\": RandomForestRegressor()\n",
    "}\n",
    "\n",
    "# Define parameters for polynomial regression\n",
    "poly_degree = 2  # Change the degree as needed\n",
    "\n",
    "# Create a dictionary to store the cross-validation scores for each model\n",
    "cv_scores = {}\n",
    "\n",
    "for model_name, model in models.items():\n",
    "    if model_name == \"Polynomial Regression\":\n",
    "        poly_features = PolynomialFeatures(degree=poly_degree)\n",
    "        X_train_poly = poly_features.fit_transform(X_train)\n",
    "        scores = cross_val_score(model, X_train_poly, y_train, scoring=\"neg_mean_squared_error\", cv=5)\n",
    "    else:\n",
    "        scores = cross_val_score(model, X_train, y_train, scoring=\"neg_mean_squared_error\", cv=5)\n",
    "    \n",
    "    mse_scores = -scores  # Convert negative MSE scores to positive\n",
    "    cv_scores[model_name] = mse_scores.mean()\n",
    "\n",
    "# Find the best model based on the lowest MSE\n",
    "best_model_name = min(cv_scores, key=cv_scores.get)\n",
    "best_model = models[best_model_name]\n",
    "\n",
    "# Train the best model on the full training dataset\n",
    "if best_model_name == \"Polynomial Regression\":\n",
    "    poly_features = PolynomialFeatures(degree=poly_degree)\n",
    "    X_train_poly = poly_features.fit_transform(X_train)\n",
    "    best_model.fit(X_train_poly, y_train)\n",
    "else:\n",
    "    best_model.fit(X_train, y_train)\n",
    "\n",
    "# Evaluate the best model on the test dataset\n",
    "if best_model_name == \"Polynomial Regression\":\n",
    "    X_test_poly = poly_features.transform(X_test)\n",
    "    y_pred = best_model.predict(X_test_poly)\n",
    "else:\n",
    "    y_pred = best_model.predict(X_test)\n",
    "\n",
    "# Calculate Mean Squared Error on the test dataset\n",
    "mse = mean_squared_error(y_test, y_pred)\n",
    "\n",
    "print(f\"Best Model: {best_model_name}\")\n",
    "print(f\"Mean Squared Error on Test Data: {mse}\")"
   ]
  },
  {
   "cell_type": "markdown",
   "id": "7389d592",
   "metadata": {
    "papermill": {
     "duration": 0.022143,
     "end_time": "2024-08-20T01:06:19.182920",
     "exception": false,
     "start_time": "2024-08-20T01:06:19.160777",
     "status": "completed"
    },
    "tags": []
   },
   "source": [
    "Correlation"
   ]
  },
  {
   "cell_type": "code",
   "execution_count": 30,
   "id": "0d10807b",
   "metadata": {
    "execution": {
     "iopub.execute_input": "2024-08-20T01:06:19.228112Z",
     "iopub.status.busy": "2024-08-20T01:06:19.227689Z",
     "iopub.status.idle": "2024-08-20T01:07:09.189956Z",
     "shell.execute_reply": "2024-08-20T01:07:09.188675Z"
    },
    "papermill": {
     "duration": 50.008229,
     "end_time": "2024-08-20T01:07:09.212580",
     "exception": false,
     "start_time": "2024-08-20T01:06:19.204351",
     "status": "completed"
    },
    "tags": []
   },
   "outputs": [
    {
     "name": "stdout",
     "output_type": "stream",
     "text": [
      "                        Model  Cross-Validation MSE      Test MSE\n",
      "0  Multiple Linear Regression          1.492096e+34  4.596257e+24\n",
      "1       Polynomial Regression          2.821823e+09  1.251158e+09\n",
      "2   Support Vector Regression          6.242792e+09  7.858365e+09\n",
      "3    Decision Tree Regression          2.237897e+09  1.670991e+09\n",
      "4    Random Forest Regression          9.703926e+08  8.563762e+08\n"
     ]
    }
   ],
   "source": [
    "# Create a dictionary to store the cross-validation scores and test MSE for each model\n",
    "results = {\n",
    "    \"Model\": [],\n",
    "    \"Cross-Validation MSE\": [],\n",
    "    \"Test MSE\": []\n",
    "}\n",
    "\n",
    "for model_name, model in models.items():\n",
    "    # Cross-validation\n",
    "    if model_name == \"Polynomial Regression\":\n",
    "        poly_features = PolynomialFeatures(degree=poly_degree)\n",
    "        X_train_poly = poly_features.fit_transform(X_train)\n",
    "        scores = cross_val_score(model, X_train_poly, y_train, scoring=\"neg_mean_squared_error\", cv=5)\n",
    "    else:\n",
    "        scores = cross_val_score(model, X_train, y_train, scoring=\"neg_mean_squared_error\", cv=5)\n",
    "    \n",
    "    mse_scores = -scores  # Convert negative MSE scores to positive\n",
    "    cv_mse_mean = mse_scores.mean()\n",
    "    \n",
    "    # Train and evaluate on the test data\n",
    "    if model_name == \"Polynomial Regression\":\n",
    "        poly_features = PolynomialFeatures(degree=poly_degree)\n",
    "        X_train_poly = poly_features.fit_transform(X_train)\n",
    "        model.fit(X_train_poly, y_train)\n",
    "        X_test_poly = poly_features.transform(X_test)\n",
    "        y_pred = model.predict(X_test_poly)\n",
    "    else:\n",
    "        model.fit(X_train, y_train)\n",
    "        y_pred = model.predict(X_test)\n",
    "    \n",
    "    test_mse = mean_squared_error(y_test, y_pred)\n",
    "    \n",
    "    # Store the results in the dictionary\n",
    "    results[\"Model\"].append(model_name)\n",
    "    results[\"Cross-Validation MSE\"].append(cv_mse_mean)\n",
    "    results[\"Test MSE\"].append(test_mse)\n",
    "\n",
    "# Create a DataFrame from the results dictionary\n",
    "results_df = pd.DataFrame(results)\n",
    "\n",
    "# Display the results table\n",
    "print(results_df)"
   ]
  },
  {
   "cell_type": "markdown",
   "id": "9b26e805",
   "metadata": {
    "papermill": {
     "duration": 0.02096,
     "end_time": "2024-08-20T01:07:09.254778",
     "exception": false,
     "start_time": "2024-08-20T01:07:09.233818",
     "status": "completed"
    },
    "tags": []
   },
   "source": [
    "Training Random Forest Regresssion"
   ]
  },
  {
   "cell_type": "code",
   "execution_count": 31,
   "id": "ddcf23e0",
   "metadata": {
    "execution": {
     "iopub.execute_input": "2024-08-20T01:07:09.299500Z",
     "iopub.status.busy": "2024-08-20T01:07:09.299087Z",
     "iopub.status.idle": "2024-08-20T01:07:13.584812Z",
     "shell.execute_reply": "2024-08-20T01:07:13.583728Z"
    },
    "papermill": {
     "duration": 4.31096,
     "end_time": "2024-08-20T01:07:13.587560",
     "exception": false,
     "start_time": "2024-08-20T01:07:09.276600",
     "status": "completed"
    },
    "tags": []
   },
   "outputs": [
    {
     "data": {
      "text/html": [
       "<style>#sk-container-id-1 {color: black;background-color: white;}#sk-container-id-1 pre{padding: 0;}#sk-container-id-1 div.sk-toggleable {background-color: white;}#sk-container-id-1 label.sk-toggleable__label {cursor: pointer;display: block;width: 100%;margin-bottom: 0;padding: 0.3em;box-sizing: border-box;text-align: center;}#sk-container-id-1 label.sk-toggleable__label-arrow:before {content: \"▸\";float: left;margin-right: 0.25em;color: #696969;}#sk-container-id-1 label.sk-toggleable__label-arrow:hover:before {color: black;}#sk-container-id-1 div.sk-estimator:hover label.sk-toggleable__label-arrow:before {color: black;}#sk-container-id-1 div.sk-toggleable__content {max-height: 0;max-width: 0;overflow: hidden;text-align: left;background-color: #f0f8ff;}#sk-container-id-1 div.sk-toggleable__content pre {margin: 0.2em;color: black;border-radius: 0.25em;background-color: #f0f8ff;}#sk-container-id-1 input.sk-toggleable__control:checked~div.sk-toggleable__content {max-height: 200px;max-width: 100%;overflow: auto;}#sk-container-id-1 input.sk-toggleable__control:checked~label.sk-toggleable__label-arrow:before {content: \"▾\";}#sk-container-id-1 div.sk-estimator input.sk-toggleable__control:checked~label.sk-toggleable__label {background-color: #d4ebff;}#sk-container-id-1 div.sk-label input.sk-toggleable__control:checked~label.sk-toggleable__label {background-color: #d4ebff;}#sk-container-id-1 input.sk-hidden--visually {border: 0;clip: rect(1px 1px 1px 1px);clip: rect(1px, 1px, 1px, 1px);height: 1px;margin: -1px;overflow: hidden;padding: 0;position: absolute;width: 1px;}#sk-container-id-1 div.sk-estimator {font-family: monospace;background-color: #f0f8ff;border: 1px dotted black;border-radius: 0.25em;box-sizing: border-box;margin-bottom: 0.5em;}#sk-container-id-1 div.sk-estimator:hover {background-color: #d4ebff;}#sk-container-id-1 div.sk-parallel-item::after {content: \"\";width: 100%;border-bottom: 1px solid gray;flex-grow: 1;}#sk-container-id-1 div.sk-label:hover label.sk-toggleable__label {background-color: #d4ebff;}#sk-container-id-1 div.sk-serial::before {content: \"\";position: absolute;border-left: 1px solid gray;box-sizing: border-box;top: 0;bottom: 0;left: 50%;z-index: 0;}#sk-container-id-1 div.sk-serial {display: flex;flex-direction: column;align-items: center;background-color: white;padding-right: 0.2em;padding-left: 0.2em;position: relative;}#sk-container-id-1 div.sk-item {position: relative;z-index: 1;}#sk-container-id-1 div.sk-parallel {display: flex;align-items: stretch;justify-content: center;background-color: white;position: relative;}#sk-container-id-1 div.sk-item::before, #sk-container-id-1 div.sk-parallel-item::before {content: \"\";position: absolute;border-left: 1px solid gray;box-sizing: border-box;top: 0;bottom: 0;left: 50%;z-index: -1;}#sk-container-id-1 div.sk-parallel-item {display: flex;flex-direction: column;z-index: 1;position: relative;background-color: white;}#sk-container-id-1 div.sk-parallel-item:first-child::after {align-self: flex-end;width: 50%;}#sk-container-id-1 div.sk-parallel-item:last-child::after {align-self: flex-start;width: 50%;}#sk-container-id-1 div.sk-parallel-item:only-child::after {width: 0;}#sk-container-id-1 div.sk-dashed-wrapped {border: 1px dashed gray;margin: 0 0.4em 0.5em 0.4em;box-sizing: border-box;padding-bottom: 0.4em;background-color: white;}#sk-container-id-1 div.sk-label label {font-family: monospace;font-weight: bold;display: inline-block;line-height: 1.2em;}#sk-container-id-1 div.sk-label-container {text-align: center;}#sk-container-id-1 div.sk-container {/* jupyter's `normalize.less` sets `[hidden] { display: none; }` but bootstrap.min.css set `[hidden] { display: none !important; }` so we also need the `!important` here to be able to override the default hidden behavior on the sphinx rendered scikit-learn.org. See: https://github.com/scikit-learn/scikit-learn/issues/21755 */display: inline-block !important;position: relative;}#sk-container-id-1 div.sk-text-repr-fallback {display: none;}</style><div id=\"sk-container-id-1\" class=\"sk-top-container\"><div class=\"sk-text-repr-fallback\"><pre>VotingRegressor(estimators=[(&#x27;gb&#x27;, GradientBoostingRegressor(random_state=0)),\n",
       "                            (&#x27;rf&#x27;, RandomForestRegressor(random_state=0)),\n",
       "                            (&#x27;xgb&#x27;,\n",
       "                             XGBRegressor(base_score=None, booster=None,\n",
       "                                          callbacks=None,\n",
       "                                          colsample_bylevel=None,\n",
       "                                          colsample_bynode=None,\n",
       "                                          colsample_bytree=None, device=None,\n",
       "                                          early_stopping_rounds=None,\n",
       "                                          enable_categorical=False,\n",
       "                                          eval_metric=None, feature_types=None,\n",
       "                                          gamma=None, grow_policy=None,\n",
       "                                          importance_type=None,\n",
       "                                          interaction_constraints=None,\n",
       "                                          learning_rate=None, max_bin=None,\n",
       "                                          max_cat_threshold=None,\n",
       "                                          max_cat_to_onehot=None,\n",
       "                                          max_delta_step=None, max_depth=None,\n",
       "                                          max_leaves=None,\n",
       "                                          min_child_weight=None, missing=nan,\n",
       "                                          monotone_constraints=None,\n",
       "                                          multi_strategy=None,\n",
       "                                          n_estimators=None, n_jobs=None,\n",
       "                                          num_parallel_tree=None,\n",
       "                                          random_state=0, ...))])</pre><b>In a Jupyter environment, please rerun this cell to show the HTML representation or trust the notebook. <br />On GitHub, the HTML representation is unable to render, please try loading this page with nbviewer.org.</b></div><div class=\"sk-container\" hidden><div class=\"sk-item sk-dashed-wrapped\"><div class=\"sk-label-container\"><div class=\"sk-label sk-toggleable\"><input class=\"sk-toggleable__control sk-hidden--visually\" id=\"sk-estimator-id-1\" type=\"checkbox\" ><label for=\"sk-estimator-id-1\" class=\"sk-toggleable__label sk-toggleable__label-arrow\">VotingRegressor</label><div class=\"sk-toggleable__content\"><pre>VotingRegressor(estimators=[(&#x27;gb&#x27;, GradientBoostingRegressor(random_state=0)),\n",
       "                            (&#x27;rf&#x27;, RandomForestRegressor(random_state=0)),\n",
       "                            (&#x27;xgb&#x27;,\n",
       "                             XGBRegressor(base_score=None, booster=None,\n",
       "                                          callbacks=None,\n",
       "                                          colsample_bylevel=None,\n",
       "                                          colsample_bynode=None,\n",
       "                                          colsample_bytree=None, device=None,\n",
       "                                          early_stopping_rounds=None,\n",
       "                                          enable_categorical=False,\n",
       "                                          eval_metric=None, feature_types=None,\n",
       "                                          gamma=None, grow_policy=None,\n",
       "                                          importance_type=None,\n",
       "                                          interaction_constraints=None,\n",
       "                                          learning_rate=None, max_bin=None,\n",
       "                                          max_cat_threshold=None,\n",
       "                                          max_cat_to_onehot=None,\n",
       "                                          max_delta_step=None, max_depth=None,\n",
       "                                          max_leaves=None,\n",
       "                                          min_child_weight=None, missing=nan,\n",
       "                                          monotone_constraints=None,\n",
       "                                          multi_strategy=None,\n",
       "                                          n_estimators=None, n_jobs=None,\n",
       "                                          num_parallel_tree=None,\n",
       "                                          random_state=0, ...))])</pre></div></div></div><div class=\"sk-parallel\"><div class=\"sk-parallel-item\"><div class=\"sk-item\"><div class=\"sk-label-container\"><div class=\"sk-label sk-toggleable\"><label>gb</label></div></div><div class=\"sk-serial\"><div class=\"sk-item\"><div class=\"sk-estimator sk-toggleable\"><input class=\"sk-toggleable__control sk-hidden--visually\" id=\"sk-estimator-id-2\" type=\"checkbox\" ><label for=\"sk-estimator-id-2\" class=\"sk-toggleable__label sk-toggleable__label-arrow\">GradientBoostingRegressor</label><div class=\"sk-toggleable__content\"><pre>GradientBoostingRegressor(random_state=0)</pre></div></div></div></div></div></div><div class=\"sk-parallel-item\"><div class=\"sk-item\"><div class=\"sk-label-container\"><div class=\"sk-label sk-toggleable\"><label>rf</label></div></div><div class=\"sk-serial\"><div class=\"sk-item\"><div class=\"sk-estimator sk-toggleable\"><input class=\"sk-toggleable__control sk-hidden--visually\" id=\"sk-estimator-id-3\" type=\"checkbox\" ><label for=\"sk-estimator-id-3\" class=\"sk-toggleable__label sk-toggleable__label-arrow\">RandomForestRegressor</label><div class=\"sk-toggleable__content\"><pre>RandomForestRegressor(random_state=0)</pre></div></div></div></div></div></div><div class=\"sk-parallel-item\"><div class=\"sk-item\"><div class=\"sk-label-container\"><div class=\"sk-label sk-toggleable\"><label>xgb</label></div></div><div class=\"sk-serial\"><div class=\"sk-item\"><div class=\"sk-estimator sk-toggleable\"><input class=\"sk-toggleable__control sk-hidden--visually\" id=\"sk-estimator-id-4\" type=\"checkbox\" ><label for=\"sk-estimator-id-4\" class=\"sk-toggleable__label sk-toggleable__label-arrow\">XGBRegressor</label><div class=\"sk-toggleable__content\"><pre>XGBRegressor(base_score=None, booster=None, callbacks=None,\n",
       "             colsample_bylevel=None, colsample_bynode=None,\n",
       "             colsample_bytree=None, device=None, early_stopping_rounds=None,\n",
       "             enable_categorical=False, eval_metric=None, feature_types=None,\n",
       "             gamma=None, grow_policy=None, importance_type=None,\n",
       "             interaction_constraints=None, learning_rate=None, max_bin=None,\n",
       "             max_cat_threshold=None, max_cat_to_onehot=None,\n",
       "             max_delta_step=None, max_depth=None, max_leaves=None,\n",
       "             min_child_weight=None, missing=nan, monotone_constraints=None,\n",
       "             multi_strategy=None, n_estimators=None, n_jobs=None,\n",
       "             num_parallel_tree=None, random_state=0, ...)</pre></div></div></div></div></div></div></div></div></div></div>"
      ],
      "text/plain": [
       "VotingRegressor(estimators=[('gb', GradientBoostingRegressor(random_state=0)),\n",
       "                            ('rf', RandomForestRegressor(random_state=0)),\n",
       "                            ('xgb',\n",
       "                             XGBRegressor(base_score=None, booster=None,\n",
       "                                          callbacks=None,\n",
       "                                          colsample_bylevel=None,\n",
       "                                          colsample_bynode=None,\n",
       "                                          colsample_bytree=None, device=None,\n",
       "                                          early_stopping_rounds=None,\n",
       "                                          enable_categorical=False,\n",
       "                                          eval_metric=None, feature_types=None,\n",
       "                                          gamma=None, grow_policy=None,\n",
       "                                          importance_type=None,\n",
       "                                          interaction_constraints=None,\n",
       "                                          learning_rate=None, max_bin=None,\n",
       "                                          max_cat_threshold=None,\n",
       "                                          max_cat_to_onehot=None,\n",
       "                                          max_delta_step=None, max_depth=None,\n",
       "                                          max_leaves=None,\n",
       "                                          min_child_weight=None, missing=nan,\n",
       "                                          monotone_constraints=None,\n",
       "                                          multi_strategy=None,\n",
       "                                          n_estimators=None, n_jobs=None,\n",
       "                                          num_parallel_tree=None,\n",
       "                                          random_state=0, ...))])"
      ]
     },
     "execution_count": 31,
     "metadata": {},
     "output_type": "execute_result"
    }
   ],
   "source": [
    "# regressor = RandomForestRegressor(n_estimators = 1000, random_state = 0)\n",
    "# regressor.fit(X_train, y_train)\n",
    "\n",
    "from sklearn.ensemble import VotingRegressor, GradientBoostingRegressor, RandomForestRegressor\n",
    "import xgboost as xgb\n",
    "from sklearn.metrics import r2_score\n",
    "gb = GradientBoostingRegressor(random_state=0)\n",
    "rf = RandomForestRegressor(random_state=0)\n",
    "xgb = xgb.XGBRegressor(random_state=0)\n",
    "\n",
    "ensemble = VotingRegressor(estimators = [('gb',gb), ('rf',rf), ('xgb',xgb)])\n",
    "ensemble.fit(X_train, y_train)"
   ]
  },
  {
   "cell_type": "markdown",
   "id": "fab82de8",
   "metadata": {
    "papermill": {
     "duration": 0.02158,
     "end_time": "2024-08-20T01:07:13.630600",
     "exception": false,
     "start_time": "2024-08-20T01:07:13.609020",
     "status": "completed"
    },
    "tags": []
   },
   "source": [
    "Predicting the Test set results"
   ]
  },
  {
   "cell_type": "code",
   "execution_count": 32,
   "id": "df6f3ed0",
   "metadata": {
    "execution": {
     "iopub.execute_input": "2024-08-20T01:07:13.677199Z",
     "iopub.status.busy": "2024-08-20T01:07:13.676199Z",
     "iopub.status.idle": "2024-08-20T01:07:13.704276Z",
     "shell.execute_reply": "2024-08-20T01:07:13.702849Z"
    },
    "papermill": {
     "duration": 0.054382,
     "end_time": "2024-08-20T01:07:13.707136",
     "exception": false,
     "start_time": "2024-08-20T01:07:13.652754",
     "status": "completed"
    },
    "tags": []
   },
   "outputs": [],
   "source": [
    "y_pred = ensemble.predict(X_test)"
   ]
  },
  {
   "cell_type": "markdown",
   "id": "a5e53b43",
   "metadata": {
    "papermill": {
     "duration": 0.020982,
     "end_time": "2024-08-20T01:07:13.749399",
     "exception": false,
     "start_time": "2024-08-20T01:07:13.728417",
     "status": "completed"
    },
    "tags": []
   },
   "source": [
    "Visualising the Random Forest Regression"
   ]
  },
  {
   "cell_type": "code",
   "execution_count": 33,
   "id": "1d4a9050",
   "metadata": {
    "execution": {
     "iopub.execute_input": "2024-08-20T01:07:13.793819Z",
     "iopub.status.busy": "2024-08-20T01:07:13.793402Z",
     "iopub.status.idle": "2024-08-20T01:07:14.334837Z",
     "shell.execute_reply": "2024-08-20T01:07:14.333568Z"
    },
    "papermill": {
     "duration": 0.566686,
     "end_time": "2024-08-20T01:07:14.337304",
     "exception": false,
     "start_time": "2024-08-20T01:07:13.770618",
     "status": "completed"
    },
    "tags": []
   },
   "outputs": [
    {
     "data": {
      "image/png": "[encoded data removed]",
      "text/plain": [
       "<Figure size 800x800 with 1 Axes>"
      ]
     },
     "metadata": {},
     "output_type": "display_data"
    }
   ],
   "source": [
    "plt.figure(figsize=(8, 8))\n",
    "plt.scatter(y_test, y_pred, alpha=0.5, color = 'green')\n",
    "plt.xlabel(\"Actual Values\")\n",
    "plt.ylabel(\"Predicted Values\")\n",
    "plt.title(\"Random Forest Regression\")\n",
    "plt.grid(True)\n",
    "plt.show()"
   ]
  },
  {
   "cell_type": "markdown",
   "id": "f867098e",
   "metadata": {
    "papermill": {
     "duration": 0.022585,
     "end_time": "2024-08-20T01:07:14.383874",
     "exception": false,
     "start_time": "2024-08-20T01:07:14.361289",
     "status": "completed"
    },
    "tags": []
   },
   "source": [
    "Evaluating the model performance"
   ]
  },
  {
   "cell_type": "code",
   "execution_count": 34,
   "id": "0d2d0bcf",
   "metadata": {
    "execution": {
     "iopub.execute_input": "2024-08-20T01:07:14.431977Z",
     "iopub.status.busy": "2024-08-20T01:07:14.431448Z",
     "iopub.status.idle": "2024-08-20T01:07:14.440280Z",
     "shell.execute_reply": "2024-08-20T01:07:14.439058Z"
    },
    "papermill": {
     "duration": 0.036244,
     "end_time": "2024-08-20T01:07:14.442777",
     "exception": false,
     "start_time": "2024-08-20T01:07:14.406533",
     "status": "completed"
    },
    "tags": []
   },
   "outputs": [
    {
     "data": {
      "text/plain": [
       "0.9013483478662925"
      ]
     },
     "execution_count": 34,
     "metadata": {},
     "output_type": "execute_result"
    }
   ],
   "source": [
    "r2_score(y_test, y_pred)"
   ]
  },
  {
   "cell_type": "code",
   "execution_count": null,
   "id": "a9d09423",
   "metadata": {
    "papermill": {
     "duration": 0.022094,
     "end_time": "2024-08-20T01:07:14.487355",
     "exception": false,
     "start_time": "2024-08-20T01:07:14.465261",
     "status": "completed"
    },
    "tags": []
   },
   "outputs": [],
   "source": []
  }
 ],
 "metadata": {
  "kaggle": {
   "accelerator": "none",
   "dataSources": [
    {
     "databundleVersionId": 868283,
     "sourceId": 5407,
     "sourceType": "competition"
    }
   ],
   "dockerImageVersionId": 30746,
   "isGpuEnabled": false,
   "isInternetEnabled": false,
   "language": "python",
   "sourceType": "notebook"
  },
  "kernelspec": {
   "display_name": "Python 3",
   "language": "python",
   "name": "python3"
  },
  "language_info": {
   "codemirror_mode": {
    "name": "ipython",
    "version": 3
   },
   "file_extension": ".py",
   "mimetype": "text/x-python",
   "name": "python",
   "nbconvert_exporter": "python",
   "pygments_lexer": "ipython3",
   "version": "3.10.13"
  },
  "papermill": {
   "default_parameters": {},
   "duration": 113.818233,
   "end_time": "2024-08-20T01:07:15.233843",
   "environment_variables": {},
   "exception": null,
   "input_path": "__notebook__.ipynb",
   "output_path": "__notebook__.ipynb",
   "parameters": {},
   "start_time": "2024-08-20T01:05:21.415610",
   "version": "2.5.0"
  }
 },
 "nbformat": 4,
 "nbformat_minor": 5
}
